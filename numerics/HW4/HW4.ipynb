{
 "cells": [
  {
   "cell_type": "code",
   "execution_count": 1,
   "id": "24c716b1",
   "metadata": {},
   "outputs": [],
   "source": [
    "import numpy as np\n",
    "import matplotlib.pyplot as plt\n",
    "import pandas as pd\n",
    "from scipy.linalg import svd\n",
    "import h5py\n",
    "import sympy as sym"
   ]
  },
  {
   "cell_type": "markdown",
   "id": "60ddc6a9",
   "metadata": {},
   "source": [
    "# №1"
   ]
  },
  {
   "cell_type": "markdown",
   "id": "6676ac81",
   "metadata": {},
   "source": [
    "$$\n",
    "f(x, a) = \\sqrt{x+a} - \\sqrt{x} = \\frac{(\\sqrt{x+a} - \\sqrt{x})(\\sqrt{x+a} + \\sqrt{x})}{\\sqrt{x+a} + \\sqrt{x}} = \\frac{a}{\\sqrt{x+a} + \\sqrt{x}}\n",
    "$$"
   ]
  },
  {
   "cell_type": "markdown",
   "id": "5ffb9cb1",
   "metadata": {},
   "source": [
    "# №2"
   ]
  },
  {
   "cell_type": "code",
   "execution_count": 17,
   "id": "874703df",
   "metadata": {},
   "outputs": [
    {
     "data": {
      "text/plain": [
       "0.4320458056166690197593783572604528727053527543871788951777017692"
      ]
     },
     "execution_count": 17,
     "metadata": {},
     "output_type": "execute_result"
    }
   ],
   "source": [
    "from mpmath import *\n",
    "mp.dps = 64 # precision (in decimal places)\n",
    "x = mp.power(10, 100)\n",
    "mp.tan(x)"
   ]
  },
  {
   "cell_type": "markdown",
   "id": "47d509c8",
   "metadata": {},
   "source": [
    "$$ f(x) = tan(x)$$\n",
    "\n",
    "$$\\kappa = \\frac{\\Vert J(x) \\Vert}{\\Vert f(x)\\Vert / \\Vert x \\Vert} = \\frac{x}{cos^2(x)tan(x)} $$ "
   ]
  },
  {
   "cell_type": "code",
   "execution_count": 20,
   "id": "827b8333",
   "metadata": {},
   "outputs": [
    {
     "data": {
      "text/plain": [
       "2.746615203119965593780244375369625727567014698359612771954891972e+100"
      ]
     },
     "execution_count": 20,
     "metadata": {},
     "output_type": "execute_result"
    }
   ],
   "source": [
    "kappa = x/(mp.power(mp.cos(x), 2) * mp.tan(x))\n",
    "kappa"
   ]
  },
  {
   "cell_type": "markdown",
   "id": "e937c8eb",
   "metadata": {},
   "source": [
    "$$\\kappa \\approx 2.75*10^{100}$$\n",
    "Нужно хранить 100 + 7 = 107 чисел"
   ]
  },
  {
   "cell_type": "markdown",
   "id": "243da230",
   "metadata": {},
   "source": [
    "# №3"
   ]
  },
  {
   "cell_type": "code",
   "execution_count": null,
   "id": "b4c1452c",
   "metadata": {},
   "outputs": [],
   "source": []
  },
  {
   "cell_type": "markdown",
   "id": "5732a1e9",
   "metadata": {},
   "source": [
    "# №4"
   ]
  },
  {
   "cell_type": "code",
   "execution_count": null,
   "id": "2af020b1",
   "metadata": {},
   "outputs": [],
   "source": []
  },
  {
   "cell_type": "markdown",
   "id": "b3d676aa",
   "metadata": {},
   "source": [
    "# №5"
   ]
  },
  {
   "cell_type": "code",
   "execution_count": 73,
   "id": "bf33df68",
   "metadata": {},
   "outputs": [
    {
     "name": "stdout",
     "output_type": "stream",
     "text": [
      "0.045239221952429354\n",
      "0.04523922195242935245858041690393530986774908073160529352111067169\n",
      "==============================\n",
      "7483.468021084803\n",
      "0.004347035818028109090259473900056452612527289123945727091920103668\n"
     ]
    }
   ],
   "source": [
    "from mpmath import mp, mpf\n",
    "mp.dps = 64 # precision (in decimal places)\n",
    "\n",
    "def f_mpf(n, alpha):\n",
    "    f = mp.zeros(1, n + 1)\n",
    "    f[0] = mp.log(1 + 1 / mpf(alpha))\n",
    "    for i in range(1, n + 1):\n",
    "        f[i] = 1 / mpf(i) - mpf(alpha) * f[i - 1]\n",
    "    return f\n",
    "\n",
    "def f_dt(dtype, n, alpha):\n",
    "    f = np.zeros(n + 1, dtype=dtype)\n",
    "    f[0] = np.log(1 + 1 / np.array(alpha, dtype=dtype))\n",
    "    for i in range(1, n + 1):\n",
    "        f[i] = 1 / np.array(i, dtype=dtype) - np.array(alpha, dtype=dtype) * f[i - 1]\n",
    "\n",
    "    return f\n",
    "\n",
    "def compare(dtype, n, alpha):\n",
    "    diff = f_mpf(n, alpha) - f_dt(dtype, n, alpha)\n",
    "    diff /= np.finfo(dtype).eps\n",
    "\n",
    "N = 20\n",
    "print(f_dt(np.float64, N, 0.1)[N])\n",
    "print(f_mpf(N, 0.1)[N])\n",
    "print(\"=\"*30)\n",
    "print(f_dt(np.float64, N, 10.0)[N])\n",
    "print(f_mpf(N, 10.0)[N])"
   ]
  },
  {
   "cell_type": "code",
   "execution_count": 83,
   "id": "449533e2",
   "metadata": {},
   "outputs": [
    {
     "data": {
      "text/plain": [
       "<matplotlib.legend.Legend at 0x166c50af0>"
      ]
     },
     "execution_count": 83,
     "metadata": {},
     "output_type": "execute_result"
    },
    {
     "data": {
      "image/png": "[encoded data removed]",
      "text/plain": [
       "<Figure size 720x432 with 1 Axes>"
      ]
     },
     "metadata": {
      "needs_background": "light"
     },
     "output_type": "display_data"
    }
   ],
   "source": [
    "alpha_ = 10.0\n",
    "diff = f_dt(np.float64, 20, alpha_) - f_mpf(20, alpha_)\n",
    "diff /= np.finfo(np.float64).eps\n",
    "plt.figure(figsize=(10, 6))\n",
    "plt.plot(diff, label = f\"Alpha: {alpha_}\")\n",
    "plt.legend()"
   ]
  },
  {
   "cell_type": "code",
   "execution_count": 84,
   "id": "cbdb82ea",
   "metadata": {},
   "outputs": [
    {
     "data": {
      "text/plain": [
       "<matplotlib.legend.Legend at 0x166cd8ac0>"
      ]
     },
     "execution_count": 84,
     "metadata": {},
     "output_type": "execute_result"
    },
    {
     "data": {
      "image/png": "[encoded data removed]",
      "text/plain": [
       "<Figure size 720x432 with 1 Axes>"
      ]
     },
     "metadata": {
      "needs_background": "light"
     },
     "output_type": "display_data"
    }
   ],
   "source": [
    "alpha_ = 0.1\n",
    "diff = f_dt(np.float64, 20, alpha_) - f_mpf(20, alpha_)\n",
    "diff /= np.finfo(np.float64).eps\n",
    "plt.figure(figsize=(10, 6))\n",
    "plt.plot(diff, label = f\"Alpha: {alpha_}\")\n",
    "plt.legend()"
   ]
  },
  {
   "cell_type": "markdown",
   "id": "cb447ee4",
   "metadata": {},
   "source": [
    "# №6"
   ]
  },
  {
   "cell_type": "code",
   "execution_count": null,
   "id": "8b71f3b3",
   "metadata": {},
   "outputs": [],
   "source": []
  },
  {
   "cell_type": "markdown",
   "id": "38aabec6",
   "metadata": {},
   "source": [
    "# №7"
   ]
  },
  {
   "cell_type": "code",
   "execution_count": null,
   "id": "6ccd9923",
   "metadata": {},
   "outputs": [],
   "source": []
  }
 ],
 "metadata": {
  "kernelspec": {
   "display_name": "Python 3 (ipykernel)",
   "language": "python",
   "name": "python3"
  },
  "language_info": {
   "codemirror_mode": {
    "name": "ipython",
    "version": 3
   },
   "file_extension": ".py",
   "mimetype": "text/x-python",
   "name": "python",
   "nbconvert_exporter": "python",
   "pygments_lexer": "ipython3",
   "version": "3.10.5"
  }
 },
 "nbformat": 4,
 "nbformat_minor": 5
}
