{
 "cells": [
  {
   "cell_type": "markdown",
   "id": "25be6256",
   "metadata": {},
   "source": [
    "# Task 1"
   ]
  },
  {
   "cell_type": "code",
   "execution_count": 1,
   "id": "0b7e2280",
   "metadata": {},
   "outputs": [],
   "source": [
    "import numpy as np\n",
    "from numpy.linalg import svd\n",
    "from scipy.sparse.linalg import svds\n",
    "from sklearn.utils.extmath import randomized_svd as rsvd\n",
    "import matplotlib.pyplot as plt"
   ]
  },
  {
   "cell_type": "code",
   "execution_count": 2,
   "id": "88b39fb5",
   "metadata": {},
   "outputs": [],
   "source": [
    "N = 2000\n",
    "rank = 2\n",
    "A = np.random.normal(0, 1, (N, N))"
   ]
  },
  {
   "cell_type": "code",
   "execution_count": 3,
   "id": "bb4b4ed9",
   "metadata": {},
   "outputs": [
    {
     "name": "stdout",
     "output_type": "stream",
     "text": [
      "3.31 s ± 266 ms per loop (mean ± std. dev. of 7 runs, 1 loop each)\n"
     ]
    }
   ],
   "source": [
    "%%timeit\n",
    "svd(A)"
   ]
  },
  {
   "cell_type": "code",
   "execution_count": 4,
   "id": "809bd004",
   "metadata": {},
   "outputs": [
    {
     "name": "stdout",
     "output_type": "stream",
     "text": [
      "25.5 s ± 1.91 s per loop (mean ± std. dev. of 7 runs, 1 loop each)\n"
     ]
    }
   ],
   "source": [
    "%%timeit\n",
    "svds(A, k = rank)"
   ]
  },
  {
   "cell_type": "code",
   "execution_count": 5,
   "id": "dcd7bc8d",
   "metadata": {},
   "outputs": [
    {
     "name": "stdout",
     "output_type": "stream",
     "text": [
      "10.9 s ± 286 ms per loop (mean ± std. dev. of 7 runs, 1 loop each)\n"
     ]
    }
   ],
   "source": [
    "%%timeit\n",
    "rsvd(A, N)"
   ]
  },
  {
   "cell_type": "code",
   "execution_count": 6,
   "id": "575655dd",
   "metadata": {},
   "outputs": [
    {
     "name": "stdout",
     "output_type": "stream",
     "text": [
      "1997.53515593359\n",
      "1997.5351559335897\n",
      "1997.5351559335909\n"
     ]
    }
   ],
   "source": [
    "def find_needed_rank_multiply(svd: np.array, rank: int):\n",
    "    return svd[0][:,:rank] @ np.diag(svd[1][:rank]) @ svd[2][:rank,:]\n",
    "\n",
    "A_svd = find_needed_rank_multiply(svd = svd(A), rank = rank)\n",
    "A_svds = find_needed_rank_multiply(svd = svds(A, k = rank), rank = rank)\n",
    "A_rsvd = find_needed_rank_multiply(svd = rsvd(A, N), rank = rank)\n",
    "for matrix in (A_svd, A_svds, A_rsvd):\n",
    "    print(np.linalg.norm(A - matrix, ord = \"fro\"))\n",
    "    \n",
    "# почти одинаковые нормы"
   ]
  },
  {
   "cell_type": "markdown",
   "id": "37c76486",
   "metadata": {},
   "source": [
    "# Task 3"
   ]
  },
  {
   "cell_type": "code",
   "execution_count": 7,
   "id": "c41b899c",
   "metadata": {},
   "outputs": [
    {
     "name": "stdout",
     "output_type": "stream",
     "text": [
      "Left singular vectors:\n",
      "[[-0.70710678 -0.70710678]\n",
      " [-0.70710678  0.70710678]]\n",
      "Right singular vectors:\n",
      "[[ 0.6 -0.8]\n",
      " [-0.8 -0.6]]\n",
      "Singular values:\n",
      "[14.14213562  7.07106781]\n"
     ]
    }
   ],
   "source": [
    "A = np.matrix([[-2,11],[-10,5]])\n",
    "u, s, vt = svd(A)\n",
    "print(\"Left singular vectors:\")\n",
    "print(u)\n",
    "print(\"Right singular vectors:\")\n",
    "print(vt)\n",
    "print(\"Singular values:\")\n",
    "print(s)"
   ]
  },
  {
   "cell_type": "code",
   "execution_count": 8,
   "id": "c7c18762",
   "metadata": {},
   "outputs": [
    {
     "data": {
      "text/plain": [
       "matrix([[ -2.,  11.],\n",
       "        [-10.,   5.]])"
      ]
     },
     "execution_count": 8,
     "metadata": {},
     "output_type": "execute_result"
    }
   ],
   "source": [
    "# чтобы выбрать с минимальным числом минусов достаточно:\n",
    "u, vt = -u, -vt\n",
    "u@np.diag(s)@vt # == A"
   ]
  },
  {
   "cell_type": "code",
   "execution_count": 9,
   "id": "1b9592b0",
   "metadata": {},
   "outputs": [],
   "source": [
    "x_circle = np.linspace(-1.0, 1.0, 1000)\n",
    "x_circle = x_circle \n",
    "y_circle = np.sqrt(1 - x_circle**2)\n",
    "circle = np.vstack([np.concatenate([x_circle, x_circle]), np.concatenate([y_circle, -y_circle])])"
   ]
  },
  {
   "cell_type": "code",
   "execution_count": 10,
   "id": "5182d313",
   "metadata": {
    "scrolled": false
   },
   "outputs": [
    {
     "data": {
      "image/png": "[encoded data removed]",
      "text/plain": [
       "<Figure size 720x720 with 1 Axes>"
      ]
     },
     "metadata": {
      "needs_background": "light"
     },
     "output_type": "display_data"
    }
   ],
   "source": [
    "plt.figure(figsize=(10,10))\n",
    "plt.scatter(circle[0], circle[1], color = \"blue\", label = \"unit ball\")\n",
    "A_circle = np.array(A@circle)\n",
    "plt.scatter(A_circle[0], A_circle[1], color = \"orange\", label = \"A@unit ball\")\n",
    "for i in range(0, 2):\n",
    "    # векторы увеличены в 5 раз для лучшей видимости\n",
    "    plt.arrow(0, 0, 5*u[0, i], 5*u[i, 1], label = f\"left {round(u[0, i], 2), round(u[i, 1], 2)}\", color = \"red\")\n",
    "    plt.arrow(0, 0, 5*vt[0, i], 5*vt[i, 1], label = f\"right {round(vt[0, i], 2), round(vt[i, 1], 2)}\", color = \"green\")\n",
    "\n",
    "\n",
    "plt.legend()\n",
    "plt.show()"
   ]
  },
  {
   "cell_type": "code",
   "execution_count": 24,
   "id": "421d4e66",
   "metadata": {},
   "outputs": [
    {
     "name": "stdout",
     "output_type": "stream",
     "text": [
      "Frobenius norm of A: 15.811388300841895\n",
      "2-norm of A:         14.142135623730947\n",
      "Inverse A:\n",
      "[[ 0.05 -0.11]\n",
      " [ 0.1  -0.02]]\n",
      "Eigen values of A:   [1.5+9.88685997j 1.5-9.88685997j]\n"
     ]
    }
   ],
   "source": [
    "print(f'Frobenius norm of A: {np.sqrt(np.sum(np.square(np.diag(s))))}')\n",
    "print(f'2-norm of A:         {np.max(np.diag(s))}')\n",
    "\n",
    "print('Inverse A:')\n",
    "print(vt.T@np.diag(s**(-1))@u.T)\n",
    "\n",
    "print(f'Eigen values of A:   {np.linalg.eig(A)[0]}')"
   ]
  },
  {
   "cell_type": "code",
   "execution_count": null,
   "id": "94e3c446",
   "metadata": {},
   "outputs": [],
   "source": []
  },
  {
   "cell_type": "code",
   "execution_count": null,
   "id": "cf862fb8",
   "metadata": {},
   "outputs": [],
   "source": []
  },
  {
   "cell_type": "code",
   "execution_count": null,
   "id": "92f68e28",
   "metadata": {},
   "outputs": [],
   "source": []
  },
  {
   "cell_type": "code",
   "execution_count": null,
   "id": "dd47911b",
   "metadata": {},
   "outputs": [],
   "source": []
  },
  {
   "cell_type": "code",
   "execution_count": null,
   "id": "f2665656",
   "metadata": {},
   "outputs": [],
   "source": []
  },
  {
   "cell_type": "code",
   "execution_count": null,
   "id": "20da1af2",
   "metadata": {},
   "outputs": [],
   "source": []
  },
  {
   "cell_type": "code",
   "execution_count": null,
   "id": "223e4fc4",
   "metadata": {},
   "outputs": [],
   "source": []
  },
  {
   "cell_type": "code",
   "execution_count": null,
   "id": "43ac8e57",
   "metadata": {},
   "outputs": [],
   "source": []
  },
  {
   "cell_type": "code",
   "execution_count": null,
   "id": "2f887d4e",
   "metadata": {},
   "outputs": [],
   "source": []
  },
  {
   "cell_type": "code",
   "execution_count": null,
   "id": "8e386638",
   "metadata": {},
   "outputs": [],
   "source": []
  },
  {
   "cell_type": "code",
   "execution_count": 13,
   "id": "b8afa96e",
   "metadata": {},
   "outputs": [],
   "source": [
    "import datetime"
   ]
  },
  {
   "cell_type": "code",
   "execution_count": 14,
   "id": "379c9e3f",
   "metadata": {},
   "outputs": [],
   "source": [
    "today = datetime.date.today()\n",
    "rate_change = datetime.date(day = 1, month = 9, year = 2023)"
   ]
  },
  {
   "cell_type": "code",
   "execution_count": 15,
   "id": "e3945851",
   "metadata": {},
   "outputs": [
    {
     "data": {
      "text/plain": [
       "1752393.071436989"
      ]
     },
     "execution_count": 15,
     "metadata": {},
     "output_type": "execute_result"
    }
   ],
   "source": [
    "first = 1_734_580*1.06**((rate_change - datetime.date(day = 29, month = 6, year = 2023)).days/365)\n",
    "first\n"
   ]
  },
  {
   "cell_type": "code",
   "execution_count": 16,
   "id": "8a5310e6",
   "metadata": {},
   "outputs": [
    {
     "data": {
      "text/plain": [
       "1776916.8569146672"
      ]
     },
     "execution_count": 16,
     "metadata": {},
     "output_type": "execute_result"
    }
   ],
   "source": [
    "second = 1_759_978*1.06**((rate_change - datetime.date(day = 3, month = 7, year = 2023)).days/365)\n",
    "second"
   ]
  },
  {
   "cell_type": "code",
   "execution_count": 17,
   "id": "261a3414",
   "metadata": {},
   "outputs": [
    {
     "data": {
      "text/plain": [
       "1813205.2884158902"
      ]
     },
     "execution_count": 17,
     "metadata": {},
     "output_type": "execute_result"
    }
   ],
   "source": [
    "third = 1_796_494*1.06**((rate_change - datetime.date(day = 5, month = 7, year = 2023)).days/365)\n",
    "third"
   ]
  },
  {
   "cell_type": "code",
   "execution_count": 18,
   "id": "b80693aa",
   "metadata": {},
   "outputs": [
    {
     "data": {
      "text/plain": [
       "8488300.838853551"
      ]
     },
     "execution_count": 18,
     "metadata": {},
     "output_type": "execute_result"
    }
   ],
   "source": [
    "# сколько отдам\n",
    "res = (first + second + third + 3_086_928)*1.08**((today - datetime.date(day = 29, month = 8, year = 2023)).days/365)\n",
    "res"
   ]
  },
  {
   "cell_type": "code",
   "execution_count": 19,
   "id": "77162d96",
   "metadata": {},
   "outputs": [
    {
     "data": {
      "text/plain": [
       "110320.83885355107"
      ]
     },
     "execution_count": 19,
     "metadata": {},
     "output_type": "execute_result"
    }
   ],
   "source": [
    "# сколько процентов вышло\n",
    "res - 1_734_580 - 1_759_978 - 1_796_494 - 3_086_928"
   ]
  }
 ],
 "metadata": {
  "kernelspec": {
   "display_name": "Python 3 (ipykernel)",
   "language": "python",
   "name": "python3"
  },
  "language_info": {
   "codemirror_mode": {
    "name": "ipython",
    "version": 3
   },
   "file_extension": ".py",
   "mimetype": "text/x-python",
   "name": "python",
   "nbconvert_exporter": "python",
   "pygments_lexer": "ipython3",
   "version": "3.10.5"
  }
 },
 "nbformat": 4,
 "nbformat_minor": 5
}
