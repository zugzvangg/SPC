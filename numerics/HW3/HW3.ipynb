{
 "cells": [
  {
   "cell_type": "code",
   "execution_count": 1,
   "id": "a270fc0b",
   "metadata": {},
   "outputs": [],
   "source": [
    "import numpy as np\n",
    "import matplotlib.pyplot as plt\n",
    "import pandas as pd\n",
    "from scipy.linalg import svd\n",
    "import h5py\n",
    "import sympy as sym\n"
   ]
  },
  {
   "cell_type": "markdown",
   "id": "1f1d7b5b",
   "metadata": {},
   "source": [
    "# №1"
   ]
  },
  {
   "cell_type": "code",
   "execution_count": 2,
   "id": "9b7cd3ea",
   "metadata": {},
   "outputs": [
    {
     "data": {
      "text/plain": [
       "array([[1.41421356, 0.        , 1.41421356],\n",
       "       [0.        , 1.        , 0.        ],\n",
       "       [1.41421356, 0.        , 1.41421356]])"
      ]
     },
     "execution_count": 2,
     "metadata": {},
     "output_type": "execute_result"
    }
   ],
   "source": [
    "# ортогональный базис\n",
    "Q1 = np.array([[1, 0], [0, 1], [1, 0]])\n",
    "sig1 = svd(Q1)[1]\n",
    "Q1@np.diag(sig1)@Q1.T"
   ]
  },
  {
   "cell_type": "code",
   "execution_count": 3,
   "id": "f0cf2e2a",
   "metadata": {},
   "outputs": [
    {
     "data": {
      "text/plain": [
       "array([[ 5.,  2.,  1.],\n",
       "       [ 2.,  2., -2.],\n",
       "       [ 1., -2.,  5.]])"
      ]
     },
     "execution_count": 3,
     "metadata": {},
     "output_type": "execute_result"
    }
   ],
   "source": [
    "# не ортогональный базис\n",
    "Q2 = np.array([[1, 2], [0, 1], [1, 0]])\n",
    "6*Q2@np.linalg.inv(Q2.T@Q2)@Q2.T"
   ]
  },
  {
   "cell_type": "markdown",
   "id": "6376eeab",
   "metadata": {},
   "source": [
    "![](img/num_3_1.jpg)"
   ]
  },
  {
   "cell_type": "code",
   "execution_count": null,
   "id": "b9b86eae",
   "metadata": {},
   "outputs": [],
   "source": []
  },
  {
   "cell_type": "code",
   "execution_count": null,
   "id": "2a8af16d",
   "metadata": {},
   "outputs": [],
   "source": []
  },
  {
   "cell_type": "code",
   "execution_count": null,
   "id": "4c17d067",
   "metadata": {},
   "outputs": [],
   "source": []
  },
  {
   "cell_type": "markdown",
   "id": "6eee6e19",
   "metadata": {},
   "source": [
    "# №2"
   ]
  },
  {
   "cell_type": "markdown",
   "id": "aac2545d",
   "metadata": {},
   "source": [
    "![](img/num_3_2.jpg)"
   ]
  },
  {
   "cell_type": "code",
   "execution_count": 4,
   "id": "c1ec7612",
   "metadata": {},
   "outputs": [
    {
     "name": "stdout",
     "output_type": "stream",
     "text": [
      "Решение системы уравнений:\n",
      "[[ 0.05454545]\n",
      " [ 0.04242424]\n",
      " [ 0.03030303]\n",
      " [ 0.01818182]\n",
      " [ 0.00606061]\n",
      " [-0.00606061]\n",
      " [-0.01818182]\n",
      " [-0.03030303]\n",
      " [-0.04242424]\n",
      " [-0.05454545]]\n"
     ]
    },
    {
     "data": {
      "text/plain": [
       "-9.71445146547012e-17"
      ]
     },
     "execution_count": 4,
     "metadata": {},
     "output_type": "execute_result"
    },
    {
     "data": {
      "image/png": "[encoded data removed]",
      "text/plain": [
       "<Figure size 1080x360 with 1 Axes>"
      ]
     },
     "metadata": {
      "needs_background": "light"
     },
     "output_type": "display_data"
    }
   ],
   "source": [
    "# Задаём матрицы, как в условии и A, как мы ее вывели\n",
    "A = np.array([np.array(list(range(19, 0, -2)))/2, np.ones(10)])\n",
    "B  = np.array([np.array([1.0]), np.array([0.0])]) # a по условию\n",
    "# Выполняем сингулярное разложение матрицы A\n",
    "U, S, V_transpose = np.linalg.svd(A)\n",
    "# Используем первые две строки матрицы U.T и первые два столбца матрицы V_transpose.T\n",
    "rank2 = np.linalg.matrix_rank(A)\n",
    "f = np.dot(np.dot(np.dot(V_transpose[:rank2, :].T, np.linalg.inv(np.diag(S[:rank2]))), U.T[:rank2, :]), B)\n",
    "print(\"Решение системы уравнений:\")\n",
    "print(f)\n",
    "plt.figure(figsize = (15, 5))\n",
    "plt.bar([f\"f_{i}\" for i in range(1, 11)], f.reshape(1, 10)[0])\n",
    "# симметричные воздействия\n",
    "\n",
    "sum(f)[0] # должна быть равна 0, тк \n",
    "# delta p = 0 = sum (f_i*delta t) = delta t * sum (f_i)"
   ]
  },
  {
   "cell_type": "markdown",
   "id": "ac58eb2e",
   "metadata": {},
   "source": [
    "# №3"
   ]
  },
  {
   "cell_type": "code",
   "execution_count": 5,
   "id": "136bf297",
   "metadata": {},
   "outputs": [],
   "source": [
    "def solve_svd(A: np.array, B: np.array):\n",
    "    # Выполняем сингулярное разложение матрицы A\n",
    "    U, S, V_transpose = np.linalg.svd(A)\n",
    "    rank = np.linalg.matrix_rank(A)\n",
    "    print(\"A rank:\", rank)\n",
    "    # Используем первые две строки матрицы U.T и первые два столбца матрицы V_transpose.T\n",
    "    return np.dot(np.dot(np.dot(V_transpose[:rank, :].T, np.linalg.inv(np.diag(S[:rank]))), U.T[:rank, :]), B)\n",
    "\n",
    "q = np.sqrt(2)\n",
    "A1 = np.array([[1/q, -1/q], [1/2, 1/2], [-1/2, -1/2]])\n",
    "B1 = np.array([np.array([1.0]), np.array([0.0]), np.array([1.0])])\n",
    "\n",
    "A2 = np.array([[1/q, 1/2, -1/2], [-1/q, 1/2, -1/2]])  # полноранговая\n",
    "B2 = np.array([np.array([1.0]), np.array([- 1.0])])\n"
   ]
  },
  {
   "cell_type": "code",
   "execution_count": 6,
   "id": "69f52d17",
   "metadata": {},
   "outputs": [
    {
     "name": "stdout",
     "output_type": "stream",
     "text": [
      "A rank: 2\n",
      "res: [ 0.20710678 -1.20710678]\n"
     ]
    }
   ],
   "source": [
    "X1 = solve_svd(A1, B1)\n",
    "print(\"res:\", X1.reshape(1, 2)[0])\n",
    "# assert np.isclose((A1@X1), B1).all() # не проходит, так как система на самом деле несовместна:\n",
    "#  x1/2 + x2/2 = 0 --> x1 + x2 = 0\n",
    "# -x1/2 - x2/2 = 1 --> x1 + x2 = -2"
   ]
  },
  {
   "cell_type": "code",
   "execution_count": 7,
   "id": "de83522a",
   "metadata": {},
   "outputs": [
    {
     "name": "stdout",
     "output_type": "stream",
     "text": [
      "A rank: 2\n",
      "res: [ 1.41421356e+00 -1.11022302e-16  1.11022302e-16]\n"
     ]
    }
   ],
   "source": [
    "X2 = solve_svd(A2, B2)\n",
    "print(\"res:\", X2.reshape(1, 3)[0])\n",
    "assert np.isclose((A2@X2), B2).all() # в этом случае система нормально решается и результат правильный"
   ]
  },
  {
   "cell_type": "markdown",
   "id": "24385fef",
   "metadata": {},
   "source": [
    "# №4"
   ]
  },
  {
   "cell_type": "code",
   "execution_count": 8,
   "id": "9078cbeb",
   "metadata": {},
   "outputs": [
    {
     "data": {
      "image/png": "[encoded data removed]",
      "text/plain": [
       "<Figure size 720x432 with 1 Axes>"
      ]
     },
     "metadata": {
      "needs_background": "light"
     },
     "output_type": "display_data"
    }
   ],
   "source": [
    "n = 7\n",
    "x = np.random.uniform(0, 6, n)\n",
    "\n",
    "y = 10 * np.sin(x) + np.random.normal(0, 1, len(x))\n",
    "plt.figure(figsize=(10, 6))\n",
    "plt.scatter(x, y)\n",
    "plt.show()"
   ]
  },
  {
   "cell_type": "code",
   "execution_count": 9,
   "id": "d73a06f3",
   "metadata": {},
   "outputs": [
    {
     "data": {
      "image/png": "[encoded data removed]",
      "text/plain": [
       "<Figure size 720x432 with 1 Axes>"
      ]
     },
     "metadata": {
      "needs_background": "light"
     },
     "output_type": "display_data"
    }
   ],
   "source": [
    "linear = np.poly1d(np.polyfit(x, y, 1))\n",
    "cubic = np.poly1d(np.polyfit(x, y, 3))\n",
    "\n",
    "sample = np.linspace(0, 6, 100)\n",
    "\n",
    "plt.figure(figsize=(10, 6))\n",
    "plt.scatter(x, y, label = 'dots')\n",
    "plt.plot(sample, linear(sample), label = 'linear')\n",
    "plt.plot(sample, cubic(sample), label = 'cubic')\n",
    "plt.legend()\n",
    "plt.show()"
   ]
  },
  {
   "cell_type": "markdown",
   "id": "55c9de93",
   "metadata": {},
   "source": [
    "# №5\n"
   ]
  },
  {
   "cell_type": "code",
   "execution_count": 10,
   "id": "13743f00",
   "metadata": {},
   "outputs": [],
   "source": [
    "with h5py.File('data/image_data.hdf', \"r\") as f:\n",
    "    A, C = f[\"A\"][\"block0_values\"][()], f[\"C\"][\"block0_values\"][()]\n",
    "    f.close()\n",
    "    \n",
    "def mat2vec(A):\n",
    "    return np.reshape(np.flipud(A), np.prod(A.shape))\n",
    "\n",
    "def vec2mat(a, shape):\n",
    "    return np.flipud(np.reshape(a, shape))"
   ]
  },
  {
   "cell_type": "code",
   "execution_count": 11,
   "id": "8f3a4678",
   "metadata": {},
   "outputs": [
    {
     "data": {
      "text/plain": [
       "(25, 60)"
      ]
     },
     "execution_count": 11,
     "metadata": {},
     "output_type": "execute_result"
    },
    {
     "data": {
      "image/png": "[encoded data removed]",
      "text/plain": [
       "<Figure size 432x288 with 1 Axes>"
      ]
     },
     "metadata": {
      "needs_background": "light"
     },
     "output_type": "display_data"
    }
   ],
   "source": [
    "plt.imshow(A)\n",
    "A.shape"
   ]
  },
  {
   "cell_type": "code",
   "execution_count": 12,
   "id": "ebb5ac03",
   "metadata": {},
   "outputs": [
    {
     "data": {
      "image/png": "[encoded data removed]",
      "text/plain": [
       "<Figure size 432x288 with 1 Axes>"
      ]
     },
     "metadata": {
      "needs_background": "light"
     },
     "output_type": "display_data"
    }
   ],
   "source": [
    "X = np.zeros((16,51))\n",
    "X[5:15,15] = 1; X[5:15,30] = 1; X[5:15,40] = 1\n",
    "X[5,10:20] = 1; X[5,30:41] = 1; X[15,30:41] = 1\n",
    "plt.imshow(X);"
   ]
  },
  {
   "cell_type": "code",
   "execution_count": 13,
   "id": "d0ce72ce",
   "metadata": {},
   "outputs": [
    {
     "data": {
      "image/png": "[encoded data removed]",
      "text/plain": [
       "<Figure size 432x288 with 1 Axes>"
      ]
     },
     "metadata": {
      "needs_background": "light"
     },
     "output_type": "display_data"
    }
   ],
   "source": [
    "x = mat2vec(X)\n",
    "plt.imshow(vec2mat(C @ x, (25, 60)));"
   ]
  },
  {
   "cell_type": "code",
   "execution_count": 14,
   "id": "e6dcd9be",
   "metadata": {},
   "outputs": [
    {
     "data": {
      "image/png": "[encoded data removed]",
      "text/plain": [
       "<Figure size 432x288 with 1 Axes>"
      ]
     },
     "metadata": {
      "needs_background": "light"
     },
     "output_type": "display_data"
    }
   ],
   "source": [
    "a = mat2vec(A)\n",
    "a0 = np.linalg.pinv(C) @ a\n",
    "A0 = vec2mat(a0, (16, 51))\n",
    "plt.imshow(A0);"
   ]
  },
  {
   "cell_type": "code",
   "execution_count": 15,
   "id": "8848fd8e",
   "metadata": {},
   "outputs": [
    {
     "data": {
      "text/plain": [
       "((1500, 816), (816,))"
      ]
     },
     "execution_count": 15,
     "metadata": {},
     "output_type": "execute_result"
    }
   ],
   "source": [
    "u, s, vh = np.linalg.svd(C, full_matrices=False)\n",
    "C.shape, s.shape"
   ]
  },
  {
   "cell_type": "code",
   "execution_count": 16,
   "id": "0a684112",
   "metadata": {},
   "outputs": [
    {
     "data": {
      "image/png": "[encoded data removed]",
      "text/plain": [
       "<Figure size 432x288 with 1 Axes>"
      ]
     },
     "metadata": {
      "needs_background": "light"
     },
     "output_type": "display_data"
    }
   ],
   "source": [
    "# equivalent to least squares\n",
    "n = 816\n",
    "s0 = np.zeros(816)\n",
    "s0[:n] = s[:n]\n",
    "C0 = np.dot(u, np.dot(np.diag(s0), vh))\n",
    "A0_guess = vec2mat(np.linalg.pinv(C0) @ a, (16, 51))\n",
    "plt.imshow(A0_guess)\n",
    "plt.show()"
   ]
  },
  {
   "cell_type": "code",
   "execution_count": 17,
   "id": "b0f34ad4",
   "metadata": {},
   "outputs": [
    {
     "data": {
      "image/png": "[encoded data removed]",
      "text/plain": [
       "<Figure size 432x288 with 1 Axes>"
      ]
     },
     "metadata": {
      "needs_background": "light"
     },
     "output_type": "display_data"
    }
   ],
   "source": [
    "plt.plot(s0)\n",
    "plt.yscale('log');"
   ]
  },
  {
   "cell_type": "code",
   "execution_count": 18,
   "id": "20a22f0a",
   "metadata": {},
   "outputs": [],
   "source": [
    "def decypher(n: int):\n",
    "    s0 = np.zeros(816)\n",
    "    s0[:n] = s[:n]\n",
    "    C0 = np.dot(u, np.dot(np.diag(s0), vh))\n",
    "    A0_guess = vec2mat(np.linalg.pinv(C0) @ a, (16, 51))\n",
    "    plt.imshow(A0_guess)\n",
    "    plt.show()"
   ]
  },
  {
   "cell_type": "code",
   "execution_count": 19,
   "id": "c316f70b",
   "metadata": {},
   "outputs": [
    {
     "data": {
      "image/png": "[encoded data removed]",
      "text/plain": [
       "<Figure size 432x288 with 1 Axes>"
      ]
     },
     "metadata": {
      "needs_background": "light"
     },
     "output_type": "display_data"
    }
   ],
   "source": [
    "decypher(10)"
   ]
  },
  {
   "cell_type": "code",
   "execution_count": 20,
   "id": "10024fa6",
   "metadata": {},
   "outputs": [
    {
     "data": {
      "image/png": "[encoded data removed]",
      "text/plain": [
       "<Figure size 432x288 with 1 Axes>"
      ]
     },
     "metadata": {
      "needs_background": "light"
     },
     "output_type": "display_data"
    }
   ],
   "source": [
    "decypher(100)"
   ]
  },
  {
   "cell_type": "code",
   "execution_count": 21,
   "id": "d9cae2f9",
   "metadata": {},
   "outputs": [
    {
     "data": {
      "image/png": "[encoded data removed]",
      "text/plain": [
       "<Figure size 432x288 with 1 Axes>"
      ]
     },
     "metadata": {
      "needs_background": "light"
     },
     "output_type": "display_data"
    }
   ],
   "source": [
    "decypher(500)"
   ]
  },
  {
   "cell_type": "code",
   "execution_count": 22,
   "id": "d7a81f8d",
   "metadata": {},
   "outputs": [
    {
     "data": {
      "image/png": "[encoded data removed]",
      "text/plain": [
       "<Figure size 432x288 with 1 Axes>"
      ]
     },
     "metadata": {
      "needs_background": "light"
     },
     "output_type": "display_data"
    }
   ],
   "source": [
    "# методом бинпоиска :)\n",
    "decypher(430)"
   ]
  },
  {
   "cell_type": "markdown",
   "id": "3bc5f1ef",
   "metadata": {},
   "source": [
    "# №6"
   ]
  },
  {
   "cell_type": "markdown",
   "id": "38d2bbdd",
   "metadata": {},
   "source": [
    "![](img/num_3_6.jpg)"
   ]
  },
  {
   "cell_type": "markdown",
   "id": "3045d875",
   "metadata": {},
   "source": [
    "# №7"
   ]
  },
  {
   "cell_type": "code",
   "execution_count": 23,
   "id": "7a9cb56b",
   "metadata": {},
   "outputs": [],
   "source": [
    "def get_data(file_path: str):\n",
    "    with h5py.File(file_path, \"r\") as f:\n",
    "        dr, r = f[\"dr\"][\"block0_values\"][()], f[\"r\"][\"block0_values\"][()]\n",
    "        ijk = f[\"measurements\"][\"block0_values\"][()]\n",
    "        theta = f[\"measurements\"][\"block1_values\"][()]\n",
    "        f.close()\n",
    "    return dr, ijk, theta, r"
   ]
  },
  {
   "cell_type": "code",
   "execution_count": 24,
   "id": "46d5d76a",
   "metadata": {},
   "outputs": [
    {
     "data": {
      "text/plain": [
       "(array([[-0.0392699,  0.       ],\n",
       "        [ 0.0392699, -0.0392699],\n",
       "        [ 0.       ,  0.0392699]]),\n",
       " array([[1, 2, 3]], dtype=int32),\n",
       " array([[0.706858]]),\n",
       " array([[-1.,  0.],\n",
       "        [ 0.,  1.],\n",
       "        [ 1.,  0.]]))"
      ]
     },
     "execution_count": 24,
     "metadata": {},
     "output_type": "execute_result"
    }
   ],
   "source": [
    "dr, ijk, theta, r = get_data(\"data/localization_data_1.hdf\")\n",
    "dr, ijk, theta, r"
   ]
  },
  {
   "cell_type": "code",
   "execution_count": 39,
   "id": "79d01d68",
   "metadata": {},
   "outputs": [],
   "source": [
    "x_1, y_1, x_2, y_2, x_3, y_3 = sym.symbols('x_1, y_1, x_2, y_2, x_3, y_3')\n",
    "r_1 = sym.Matrix([x_1, y_1])\n",
    "r_2 = sym.Matrix([x_2, y_2])\n",
    "r_3 = sym.Matrix([x_3, y_3])\n",
    "\n",
    "dx1, dy1, dx2, dy2, dx3, dy3 = sym.symbols('dx1, dy1, dx2, dy2, dx3, dy3')\n",
    "dr1 = sym.Matrix([dx1, dy1])\n",
    "dr2 = sym.Matrix([dx2, dy2])\n",
    "dr3 = sym.Matrix([dx3, dy3])\n",
    "\n",
    "A1 = r_1 + dr1\n",
    "A2 = r_2 + dr2\n",
    "A3 = r_3 + dr3\n",
    "\n",
    "nominator = (A1 - A2).dot((A1 - A3)).expand()\n",
    "denominator_square = (((A1 - A2).dot(A1 - A2))).expand()*((A1 - A3).dot(A1 - A3)).expand()\n",
    "\n",
    "# cos_theta_factorized = sym.simplify(sym.expand(cos_theta))\n",
    "# чтобы сделать выражение линейным по остаткам, нудно выкинуть dx_i*dx_j, dy_i*dy_j\n",
    "# в предположении малости добавок\n",
    "\n",
    "# на костылях\n",
    "subs = [\n",
    "    [dx1*dx1, 0], [dx1*dx2, 0], [dx1*dx3, 0], \n",
    "    [dx2*dx1, 0], [dx2*dx2, 0], [dx2*dx3, 0],\n",
    "    [dx3*dx1, 0], [dx3*dx2, 0], [dx3*dx3, 0],\n",
    "    \n",
    "    [dy1*dy1, 0], [dy1*dy2, 0], [dy1*dy3, 0], \n",
    "    [dy2*dy1, 0], [dy2*dy2, 0], [dy2*dy3, 0],\n",
    "    [dy3*dy1, 0], [dy3*dy2, 0], [dy3*dy3, 0],\n",
    "    \n",
    "    [dx1*dx1*dx1, 0], [dx2*dx2*dx2, 0], [dx3*dx3*dx3, 0],\n",
    "    [dx1*dy1, 0], [dx1*dy2, 0], [dx1*dy3, 0],\n",
    "    [dx2*dy1, 0], [dx2*dy2, 0], [dx2*dy3, 0],\n",
    "    [dx3*dy1, 0], [dx3*dy2, 0], [dx3*dy3, 0],\n",
    "    \n",
    "       ]\n",
    "nominator = nominator.subs(subs)\n",
    "denominator_square = denominator_square.subs(subs)"
   ]
  },
  {
   "cell_type": "code",
   "execution_count": 40,
   "id": "91ceba28",
   "metadata": {},
   "outputs": [
    {
     "data": {
      "text/latex": [
       "$\\displaystyle 2 dx_{1} x_{1} - dx_{1} x_{2} - dx_{1} x_{3} - dx_{2} x_{1} + dx_{2} x_{3} - dx_{3} x_{1} + dx_{3} x_{2} + 2 dy_{1} y_{1} - dy_{1} y_{2} - dy_{1} y_{3} - dy_{2} y_{1} + dy_{2} y_{3} - dy_{3} y_{1} + dy_{3} y_{2} + x_{1}^{2} - x_{1} x_{2} - x_{1} x_{3} + x_{2} x_{3} + y_{1}^{2} - y_{1} y_{2} - y_{1} y_{3} + y_{2} y_{3}$"
      ],
      "text/plain": [
       "2*dx1*x_1 - dx1*x_2 - dx1*x_3 - dx2*x_1 + dx2*x_3 - dx3*x_1 + dx3*x_2 + 2*dy1*y_1 - dy1*y_2 - dy1*y_3 - dy2*y_1 + dy2*y_3 - dy3*y_1 + dy3*y_2 + x_1**2 - x_1*x_2 - x_1*x_3 + x_2*x_3 + y_1**2 - y_1*y_2 - y_1*y_3 + y_2*y_3"
      ]
     },
     "execution_count": 40,
     "metadata": {},
     "output_type": "execute_result"
    }
   ],
   "source": [
    "nominator"
   ]
  },
  {
   "cell_type": "code",
   "execution_count": 41,
   "id": "68abf0fa",
   "metadata": {},
   "outputs": [
    {
     "data": {
      "text/latex": [
       "$\\displaystyle \\left(2 dx_{1} x_{1} - 2 dx_{1} x_{2} - 2 dx_{2} x_{1} + 2 dx_{2} x_{2} + 2 dy_{1} y_{1} - 2 dy_{1} y_{2} - 2 dy_{2} y_{1} + 2 dy_{2} y_{2} + x_{1}^{2} - 2 x_{1} x_{2} + x_{2}^{2} + y_{1}^{2} - 2 y_{1} y_{2} + y_{2}^{2}\\right) \\left(2 dx_{1} x_{1} - 2 dx_{1} x_{3} - 2 dx_{3} x_{1} + 2 dx_{3} x_{3} + 2 dy_{1} y_{1} - 2 dy_{1} y_{3} - 2 dy_{3} y_{1} + 2 dy_{3} y_{3} + x_{1}^{2} - 2 x_{1} x_{3} + x_{3}^{2} + y_{1}^{2} - 2 y_{1} y_{3} + y_{3}^{2}\\right)$"
      ],
      "text/plain": [
       "(2*dx1*x_1 - 2*dx1*x_2 - 2*dx2*x_1 + 2*dx2*x_2 + 2*dy1*y_1 - 2*dy1*y_2 - 2*dy2*y_1 + 2*dy2*y_2 + x_1**2 - 2*x_1*x_2 + x_2**2 + y_1**2 - 2*y_1*y_2 + y_2**2)*(2*dx1*x_1 - 2*dx1*x_3 - 2*dx3*x_1 + 2*dx3*x_3 + 2*dy1*y_1 - 2*dy1*y_3 - 2*dy3*y_1 + 2*dy3*y_3 + x_1**2 - 2*x_1*x_3 + x_3**2 + y_1**2 - 2*y_1*y_3 + y_3**2)"
      ]
     },
     "execution_count": 41,
     "metadata": {},
     "output_type": "execute_result"
    }
   ],
   "source": [
    "denominator_square"
   ]
  },
  {
   "cell_type": "code",
   "execution_count": null,
   "id": "8830d845",
   "metadata": {},
   "outputs": [],
   "source": []
  }
 ],
 "metadata": {
  "kernelspec": {
   "display_name": "Python 3 (ipykernel)",
   "language": "python",
   "name": "python3"
  },
  "language_info": {
   "codemirror_mode": {
    "name": "ipython",
    "version": 3
   },
   "file_extension": ".py",
   "mimetype": "text/x-python",
   "name": "python",
   "nbconvert_exporter": "python",
   "pygments_lexer": "ipython3",
   "version": "3.10.5"
  }
 },
 "nbformat": 4,
 "nbformat_minor": 5
}
