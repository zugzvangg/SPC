{
 "cells": [
  {
   "cell_type": "code",
   "execution_count": 1,
   "id": "c18b2a07",
   "metadata": {},
   "outputs": [],
   "source": [
    "import numpy as np\n",
    "import matplotlib.pyplot as plt\n",
    "import pandas as pd\n",
    "from scipy.linalg import svd\n",
    "import h5py"
   ]
  },
  {
   "cell_type": "markdown",
   "id": "02edd7d8",
   "metadata": {},
   "source": [
    "# №1"
   ]
  },
  {
   "cell_type": "code",
   "execution_count": 2,
   "id": "79603687",
   "metadata": {},
   "outputs": [
    {
     "data": {
      "text/plain": [
       "array([[1.41421356, 0.        , 1.41421356],\n",
       "       [0.        , 1.        , 0.        ],\n",
       "       [1.41421356, 0.        , 1.41421356]])"
      ]
     },
     "execution_count": 2,
     "metadata": {},
     "output_type": "execute_result"
    }
   ],
   "source": [
    "# ортогональный базис\n",
    "Q1 = np.array([[1, 0], [0, 1], [1, 0]])\n",
    "sig1 = svd(Q1)[1]\n",
    "Q1@np.diag(sig1)@Q1.T"
   ]
  },
  {
   "cell_type": "code",
   "execution_count": 3,
   "id": "4b33cbf8",
   "metadata": {},
   "outputs": [
    {
     "data": {
      "text/plain": [
       "array([[ 5.,  2.,  1.],\n",
       "       [ 2.,  2., -2.],\n",
       "       [ 1., -2.,  5.]])"
      ]
     },
     "execution_count": 3,
     "metadata": {},
     "output_type": "execute_result"
    }
   ],
   "source": [
    "# не ортогональный базис\n",
    "Q2 = np.array([[1, 2], [0, 1], [1, 0]])\n",
    "6*Q2@np.linalg.inv(Q2.T@Q2)@Q2.T"
   ]
  },
  {
   "cell_type": "markdown",
   "id": "d43b0537",
   "metadata": {},
   "source": [
    "![](img/num_3_1.jpg)"
   ]
  },
  {
   "cell_type": "code",
   "execution_count": null,
   "id": "098e803d",
   "metadata": {},
   "outputs": [],
   "source": []
  },
  {
   "cell_type": "code",
   "execution_count": null,
   "id": "90964554",
   "metadata": {},
   "outputs": [],
   "source": []
  },
  {
   "cell_type": "code",
   "execution_count": null,
   "id": "d0fe02df",
   "metadata": {},
   "outputs": [],
   "source": []
  },
  {
   "cell_type": "markdown",
   "id": "c8c511c4",
   "metadata": {},
   "source": [
    "# №2"
   ]
  },
  {
   "cell_type": "markdown",
   "id": "5428429e",
   "metadata": {},
   "source": [
    "![](img/num_3_2.jpg)"
   ]
  },
  {
   "cell_type": "code",
   "execution_count": 23,
   "id": "19e09293",
   "metadata": {},
   "outputs": [
    {
     "name": "stdout",
     "output_type": "stream",
     "text": [
      "Решение системы уравнений:\n",
      "[[ 0.05454545]\n",
      " [ 0.04242424]\n",
      " [ 0.03030303]\n",
      " [ 0.01818182]\n",
      " [ 0.00606061]\n",
      " [-0.00606061]\n",
      " [-0.01818182]\n",
      " [-0.03030303]\n",
      " [-0.04242424]\n",
      " [-0.05454545]]\n"
     ]
    },
    {
     "data": {
      "text/plain": [
       "-9.71445146547012e-17"
      ]
     },
     "execution_count": 23,
     "metadata": {},
     "output_type": "execute_result"
    },
    {
     "data": {
      "image/png": "[encoded data removed]",
      "text/plain": [
       "<Figure size 1080x360 with 1 Axes>"
      ]
     },
     "metadata": {
      "needs_background": "light"
     },
     "output_type": "display_data"
    }
   ],
   "source": [
    "# Задаём матрицы, как в условии и A, как мы ее вывели\n",
    "A = np.array([np.array(list(range(19, 0, -2)))/2, np.ones(10)])\n",
    "B  = np.array([np.array([1.0]), np.array([0.0])]) # a по условию\n",
    "# Выполняем сингулярное разложение матрицы A\n",
    "U, S, V_transpose = np.linalg.svd(A)\n",
    "# Используем первые две строки матрицы U.T и первые два столбца матрицы V_transpose.T\n",
    "rank2 = np.linalg.matrix_rank(A)\n",
    "f = np.dot(np.dot(np.dot(V_transpose[:rank2, :].T, np.linalg.inv(np.diag(S[:rank2]))), U.T[:rank2, :]), B)\n",
    "print(\"Решение системы уравнений:\")\n",
    "print(f)\n",
    "plt.figure(figsize = (15, 5))\n",
    "plt.bar([f\"f_{i}\" for i in range(1, 11)], f.reshape(1, 10)[0])\n",
    "# симметричные воздействия\n",
    "\n",
    "sum(f)[0] # должна быть равна 0, тк \n",
    "# delta p = 0 = sum (f_i*delta t) = delta t * sum (f_i)"
   ]
  },
  {
   "cell_type": "markdown",
   "id": "761147a7",
   "metadata": {},
   "source": [
    "# №3"
   ]
  },
  {
   "cell_type": "code",
   "execution_count": 5,
   "id": "8dc959af",
   "metadata": {},
   "outputs": [],
   "source": [
    "def solve_svd(A: np.array, B: np.array):\n",
    "    # Выполняем сингулярное разложение матрицы A\n",
    "    U, S, V_transpose = np.linalg.svd(A)\n",
    "    rank = np.linalg.matrix_rank(A)\n",
    "    print(\"A rank:\", rank)\n",
    "    # Используем первые две строки матрицы U.T и первые два столбца матрицы V_transpose.T\n",
    "    return np.dot(np.dot(np.dot(V_transpose[:rank, :].T, np.linalg.inv(np.diag(S[:rank]))), U.T[:rank, :]), B)\n",
    "\n",
    "q = np.sqrt(2)\n",
    "A1 = np.array([[1/q, -1/q], [1/2, 1/2], [-1/2, -1/2]])\n",
    "B1 = np.array([np.array([1.0]), np.array([0.0]), np.array([1.0])])\n",
    "\n",
    "A2 = np.array([[1/q, 1/2, -1/2], [-1/q, 1/2, -1/2]])  # полноранговая\n",
    "B2 = np.array([np.array([1.0]), np.array([- 1.0])])\n"
   ]
  },
  {
   "cell_type": "code",
   "execution_count": 6,
   "id": "7dc1c707",
   "metadata": {},
   "outputs": [
    {
     "name": "stdout",
     "output_type": "stream",
     "text": [
      "A rank: 2\n",
      "res: [ 0.20710678 -1.20710678]\n"
     ]
    }
   ],
   "source": [
    "X1 = solve_svd(A1, B1)\n",
    "print(\"res:\", X1.reshape(1, 2)[0])\n",
    "# assert np.isclose((A1@X1), B1).all() # не проходит, так как система на самом деле несовместна:\n",
    "#  x1/2 + x2/2 = 0 --> x1 + x2 = 0\n",
    "# -x1/2 - x2/2 = 1 --> x1 + x2 = -2"
   ]
  },
  {
   "cell_type": "code",
   "execution_count": 7,
   "id": "ada35a78",
   "metadata": {},
   "outputs": [
    {
     "name": "stdout",
     "output_type": "stream",
     "text": [
      "A rank: 2\n",
      "res: [ 1.41421356e+00 -1.11022302e-16  1.11022302e-16]\n"
     ]
    }
   ],
   "source": [
    "X2 = solve_svd(A2, B2)\n",
    "print(\"res:\", X2.reshape(1, 3)[0])\n",
    "assert np.isclose((A2@X2), B2).all() # в этом случае система нормально решается и результат правильный"
   ]
  },
  {
   "cell_type": "markdown",
   "id": "068c4fc5",
   "metadata": {},
   "source": [
    "# №4"
   ]
  },
  {
   "cell_type": "code",
   "execution_count": 8,
   "id": "1d86cf47",
   "metadata": {},
   "outputs": [
    {
     "data": {
      "image/png": "[encoded data removed]",
      "text/plain": [
       "<Figure size 720x432 with 1 Axes>"
      ]
     },
     "metadata": {
      "needs_background": "light"
     },
     "output_type": "display_data"
    }
   ],
   "source": [
    "n = 7\n",
    "x = np.random.uniform(0, 6, n)\n",
    "\n",
    "y = 10 * np.sin(x) + np.random.normal(0, 1, len(x))\n",
    "plt.figure(figsize=(10, 6))\n",
    "plt.scatter(x, y)\n",
    "plt.show()"
   ]
  },
  {
   "cell_type": "code",
   "execution_count": 9,
   "id": "87319850",
   "metadata": {},
   "outputs": [
    {
     "data": {
      "image/png": "[encoded data removed]",
      "text/plain": [
       "<Figure size 720x432 with 1 Axes>"
      ]
     },
     "metadata": {
      "needs_background": "light"
     },
     "output_type": "display_data"
    }
   ],
   "source": [
    "linear = np.poly1d(np.polyfit(x, y, 1))\n",
    "cubic = np.poly1d(np.polyfit(x, y, 3))\n",
    "\n",
    "sample = np.linspace(0, 6, 100)\n",
    "\n",
    "plt.figure(figsize=(10, 6))\n",
    "plt.scatter(x, y, label = 'dots')\n",
    "plt.plot(sample, linear(sample), label = 'linear')\n",
    "plt.plot(sample, cubic(sample), label = 'cubic')\n",
    "plt.legend()\n",
    "plt.show()"
   ]
  },
  {
   "cell_type": "markdown",
   "id": "c14b4239",
   "metadata": {},
   "source": [
    "# №5\n"
   ]
  },
  {
   "cell_type": "code",
   "execution_count": 10,
   "id": "c017e896",
   "metadata": {},
   "outputs": [],
   "source": [
    "with h5py.File('image_data.hdf', \"r\") as f:\n",
    "    A, C = f[\"A\"][\"block0_values\"][()], f[\"C\"][\"block0_values\"][()]\n",
    "    f.close()\n",
    "    \n",
    "def mat2vec(A):\n",
    "    return np.reshape(np.flipud(A), np.prod(A.shape))\n",
    "\n",
    "def vec2mat(a, shape):\n",
    "    return np.flipud(np.reshape(a, shape))"
   ]
  },
  {
   "cell_type": "code",
   "execution_count": 11,
   "id": "7c54f1e9",
   "metadata": {},
   "outputs": [
    {
     "data": {
      "text/plain": [
       "(25, 60)"
      ]
     },
     "execution_count": 11,
     "metadata": {},
     "output_type": "execute_result"
    },
    {
     "data": {
      "image/png": "[encoded data removed]",
      "text/plain": [
       "<Figure size 432x288 with 1 Axes>"
      ]
     },
     "metadata": {
      "needs_background": "light"
     },
     "output_type": "display_data"
    }
   ],
   "source": [
    "plt.imshow(A)\n",
    "A.shape"
   ]
  },
  {
   "cell_type": "code",
   "execution_count": 12,
   "id": "e4233196",
   "metadata": {},
   "outputs": [
    {
     "data": {
      "image/png": "[encoded data removed]",
      "text/plain": [
       "<Figure size 432x288 with 1 Axes>"
      ]
     },
     "metadata": {
      "needs_background": "light"
     },
     "output_type": "display_data"
    }
   ],
   "source": [
    "X = np.zeros((16,51))\n",
    "X[5:15,15] = 1; X[5:15,30] = 1; X[5:15,40] = 1\n",
    "X[5,10:20] = 1; X[5,30:41] = 1; X[15,30:41] = 1\n",
    "plt.imshow(X);"
   ]
  },
  {
   "cell_type": "code",
   "execution_count": 13,
   "id": "6c9267c7",
   "metadata": {},
   "outputs": [
    {
     "data": {
      "image/png": "[encoded data removed]",
      "text/plain": [
       "<Figure size 432x288 with 1 Axes>"
      ]
     },
     "metadata": {
      "needs_background": "light"
     },
     "output_type": "display_data"
    }
   ],
   "source": [
    "x = mat2vec(X)\n",
    "plt.imshow(vec2mat(C @ x, (25, 60)));"
   ]
  },
  {
   "cell_type": "code",
   "execution_count": 14,
   "id": "a8e605b5",
   "metadata": {},
   "outputs": [
    {
     "data": {
      "image/png": "[encoded data removed]",
      "text/plain": [
       "<Figure size 432x288 with 1 Axes>"
      ]
     },
     "metadata": {
      "needs_background": "light"
     },
     "output_type": "display_data"
    }
   ],
   "source": [
    "a = mat2vec(A)\n",
    "a0 = np.linalg.pinv(C) @ a\n",
    "A0 = vec2mat(a0, (16, 51))\n",
    "plt.imshow(A0);"
   ]
  },
  {
   "cell_type": "code",
   "execution_count": 15,
   "id": "1508add1",
   "metadata": {},
   "outputs": [
    {
     "data": {
      "text/plain": [
       "((1500, 816), (816,))"
      ]
     },
     "execution_count": 15,
     "metadata": {},
     "output_type": "execute_result"
    }
   ],
   "source": [
    "u, s, vh = np.linalg.svd(C, full_matrices=False)\n",
    "C.shape, s.shape"
   ]
  },
  {
   "cell_type": "code",
   "execution_count": 16,
   "id": "5f8f435e",
   "metadata": {},
   "outputs": [
    {
     "data": {
      "image/png": "[encoded data removed]",
      "text/plain": [
       "<Figure size 432x288 with 1 Axes>"
      ]
     },
     "metadata": {
      "needs_background": "light"
     },
     "output_type": "display_data"
    }
   ],
   "source": [
    "# equivalent to least squares\n",
    "n = 816\n",
    "s0 = np.zeros(816)\n",
    "s0[:n] = s[:n]\n",
    "C0 = np.dot(u, np.dot(np.diag(s0), vh))\n",
    "A0_guess = vec2mat(np.linalg.pinv(C0) @ a, (16, 51))\n",
    "plt.imshow(A0_guess)\n",
    "plt.show()"
   ]
  },
  {
   "cell_type": "code",
   "execution_count": 17,
   "id": "b5c38cd6",
   "metadata": {},
   "outputs": [
    {
     "data": {
      "image/png": "[encoded data removed]",
      "text/plain": [
       "<Figure size 432x288 with 1 Axes>"
      ]
     },
     "metadata": {
      "needs_background": "light"
     },
     "output_type": "display_data"
    }
   ],
   "source": [
    "plt.plot(s0)\n",
    "plt.yscale('log');"
   ]
  },
  {
   "cell_type": "code",
   "execution_count": 18,
   "id": "0516aaf9",
   "metadata": {},
   "outputs": [],
   "source": [
    "def decypher(n: int):\n",
    "    s0 = np.zeros(816)\n",
    "    s0[:n] = s[:n]\n",
    "    C0 = np.dot(u, np.dot(np.diag(s0), vh))\n",
    "    A0_guess = vec2mat(np.linalg.pinv(C0) @ a, (16, 51))\n",
    "    plt.imshow(A0_guess)\n",
    "    plt.show()"
   ]
  },
  {
   "cell_type": "code",
   "execution_count": 19,
   "id": "f8d1da70",
   "metadata": {},
   "outputs": [
    {
     "data": {
      "image/png": "[encoded data removed]",
      "text/plain": [
       "<Figure size 432x288 with 1 Axes>"
      ]
     },
     "metadata": {
      "needs_background": "light"
     },
     "output_type": "display_data"
    }
   ],
   "source": [
    "decypher(10)"
   ]
  },
  {
   "cell_type": "code",
   "execution_count": 20,
   "id": "a144cbed",
   "metadata": {},
   "outputs": [
    {
     "data": {
      "image/png": "[encoded data removed]",
      "text/plain": [
       "<Figure size 432x288 with 1 Axes>"
      ]
     },
     "metadata": {
      "needs_background": "light"
     },
     "output_type": "display_data"
    }
   ],
   "source": [
    "decypher(100)"
   ]
  },
  {
   "cell_type": "code",
   "execution_count": 25,
   "id": "243c52e3",
   "metadata": {},
   "outputs": [
    {
     "data": {
      "image/png": "[encoded data removed]",
      "text/plain": [
       "<Figure size 432x288 with 1 Axes>"
      ]
     },
     "metadata": {
      "needs_background": "light"
     },
     "output_type": "display_data"
    }
   ],
   "source": [
    "decypher(500)"
   ]
  },
  {
   "cell_type": "code",
   "execution_count": 22,
   "id": "54551440",
   "metadata": {},
   "outputs": [
    {
     "data": {
      "image/png": "[encoded data removed]",
      "text/plain": [
       "<Figure size 432x288 with 1 Axes>"
      ]
     },
     "metadata": {
      "needs_background": "light"
     },
     "output_type": "display_data"
    }
   ],
   "source": [
    "# методом бинпоиска :)\n",
    "decypher(430)"
   ]
  },
  {
   "cell_type": "markdown",
   "id": "dd82dbc5",
   "metadata": {},
   "source": [
    "# №6"
   ]
  },
  {
   "cell_type": "markdown",
   "id": "6b87c765",
   "metadata": {},
   "source": [
    "![](img/num_3_6.jpg)"
   ]
  },
  {
   "cell_type": "markdown",
   "id": "68de5ea2",
   "metadata": {},
   "source": [
    "# №7"
   ]
  },
  {
   "cell_type": "code",
   "execution_count": null,
   "id": "69acc5e4",
   "metadata": {},
   "outputs": [],
   "source": []
  },
  {
   "cell_type": "code",
   "execution_count": null,
   "id": "4fd9e6db",
   "metadata": {},
   "outputs": [],
   "source": []
  },
  {
   "cell_type": "code",
   "execution_count": null,
   "id": "4a6c7536",
   "metadata": {},
   "outputs": [],
   "source": []
  }
 ],
 "metadata": {
  "kernelspec": {
   "display_name": "Python 3 (ipykernel)",
   "language": "python",
   "name": "python3"
  },
  "language_info": {
   "codemirror_mode": {
    "name": "ipython",
    "version": 3
   },
   "file_extension": ".py",
   "mimetype": "text/x-python",
   "name": "python",
   "nbconvert_exporter": "python",
   "pygments_lexer": "ipython3",
   "version": "3.10.5"
  }
 },
 "nbformat": 4,
 "nbformat_minor": 5
}
