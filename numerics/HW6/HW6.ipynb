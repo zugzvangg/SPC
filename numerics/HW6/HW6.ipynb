{
 "cells": [
  {
   "cell_type": "code",
   "execution_count": 1,
   "id": "e3513c6d",
   "metadata": {},
   "outputs": [],
   "source": [
    "import numpy as np\n",
    "import matplotlib.pyplot as plt\n",
    "import pandas as pd\n",
    "import scipy as sp\n",
    "\n",
    "import jax\n",
    "import jax.numpy as jnp\n",
    "jax.config.update(\"jax_enable_x64\", True)\n",
    "from scipy import optimize\n",
    "import cvxpy as cp"
   ]
  },
  {
   "cell_type": "markdown",
   "id": "996325ca-6c96-4084-a804-e2afb56a083f",
   "metadata": {},
   "source": [
    " # №1"
   ]
  },
  {
   "cell_type": "markdown",
   "id": "0e7521e2-dcc8-4c1e-b92a-ded0a20672d8",
   "metadata": {},
   "source": [
    "$f(x_1, x_2) = \\left( x_1 + x_2^2 \\right)^2$"
   ]
  },
  {
   "cell_type": "markdown",
   "id": "7ffa880e-a7b3-4ba8-9565-9d8c1d43e162",
   "metadata": {},
   "source": [
    "$x = ( 1, 0 )$, $p = ( -1, 1 )$ - is a descent direction"
   ]
  },
  {
   "cell_type": "markdown",
   "id": "c3cdfc6d-845f-49a0-8f24-2796648b77aa",
   "metadata": {},
   "source": [
    "$\\min\\limits_{\\alpha > 0} f(x + \\alpha p)$"
   ]
  },
  {
   "cell_type": "markdown",
   "id": "d4810975-1dab-491f-8ec8-3256a217f845",
   "metadata": {},
   "source": [
    "$p \\cdot \\nabla f < 0$"
   ]
  },
  {
   "cell_type": "markdown",
   "id": "ef23f1af-15d6-4cc1-8b38-0fd3a7411f6a",
   "metadata": {},
   "source": [
    "$$\n",
    "\\nabla f = \\left( \\frac{\\partial f}{\\partial x_1}, \\frac{\\partial f}{\\partial x_2} \\right)\n",
    "$$"
   ]
  },
  {
   "cell_type": "markdown",
   "id": "74e0e2f7-34f9-414b-b671-ce877e0a218d",
   "metadata": {},
   "source": [
    "$$\n",
    "\\nabla f = \\left( 2x_1 + 2x_2^2, 4x_1x_2 + 4x_2^3 \\right) = \\left( 2, 0 \\right)\n",
    "$$"
   ]
  },
  {
   "cell_type": "markdown",
   "id": "10bcc3b6-f863-41db-91b9-5e52832deafb",
   "metadata": {},
   "source": [
    "$$p \\cdot \\nabla f = -2 < 0$$"
   ]
  },
  {
   "cell_type": "markdown",
   "id": "fe07cf46-a600-41bf-8ccf-7133ec642148",
   "metadata": {},
   "source": [
    "$$f(x + \\alpha p) = f(x_1 - \\alpha, x_2 + \\alpha) = \\left(x_1 - \\alpha + (x_2 + \\alpha)^2\\right)^2$$"
   ]
  },
  {
   "cell_type": "markdown",
   "id": "c3ea0834-f452-4e39-8874-590c2b0dd501",
   "metadata": {},
   "source": [
    "$$f(x+\\alpha p) = (x_1 - \\alpha + x_2^2 + 2\\alpha x_2 + \\alpha^2)^2$$"
   ]
  },
  {
   "cell_type": "markdown",
   "id": "a0efe22c-11bd-427b-9769-97da9804e755",
   "metadata": {},
   "source": [
    "$$f(x + \\alpha p) = (1 - \\alpha + \\alpha^2)^2$$"
   ]
  },
  {
   "cell_type": "markdown",
   "id": "df39ee56-23d0-40d1-a19a-c623a4190105",
   "metadata": {},
   "source": [
    "$$\\min\\limits_{\\alpha > 0} (1 - a + \\alpha^2)$$"
   ]
  },
  {
   "cell_type": "markdown",
   "id": "fa23bc75-187b-4036-83bd-7a36edf6df50",
   "metadata": {},
   "source": [
    "$$-1 + 2\\alpha = 0 \\rightarrow \\alpha = 0.5$$"
   ]
  },
  {
   "cell_type": "markdown",
   "id": "f0505195-b198-4a6d-9706-7b17b5404837",
   "metadata": {},
   "source": [
    "# №2"
   ]
  },
  {
   "cell_type": "markdown",
   "id": "e35b31d1-2a45-4864-902d-410c4be1a86b",
   "metadata": {},
   "source": [
    "$$y_i = e^{x_i}$$"
   ]
  },
  {
   "cell_type": "markdown",
   "id": "37cd0a3a-5997-4efc-8787-f4f8a89eb9ec",
   "metadata": {},
   "source": [
    "$$x_i = -3 + 6 * \\frac{i-1}{k-1}$$"
   ]
  },
  {
   "cell_type": "markdown",
   "id": "61a2f1f9-0bed-4a85-8230-767d57947c5c",
   "metadata": {},
   "source": [
    "$$k = 201$$"
   ]
  },
  {
   "cell_type": "markdown",
   "id": "fcbc9f37-bebd-4c3a-a222-025085364f82",
   "metadata": {},
   "source": [
    "$$f(x) = \\frac{a_0 + a_1x + a_2x^2}{1 + b_1x + b_2x^2}$$"
   ]
  },
  {
   "cell_type": "markdown",
   "id": "d6ce538c-2ef1-4e5c-94bf-ba0091870f0f",
   "metadata": {},
   "source": [
    "$$\\max_{i=1}^k |f(x_i) - y_i| \\rightarrow \\min$$"
   ]
  },
  {
   "cell_type": "code",
   "execution_count": 2,
   "id": "02548503-e7ce-40b0-b865-57bf4959c2ac",
   "metadata": {},
   "outputs": [
    {
     "data": {
      "image/png": "[encoded data removed]",
      "text/plain": [
       "<Figure size 432x288 with 1 Axes>"
      ]
     },
     "metadata": {
      "needs_background": "light"
     },
     "output_type": "display_data"
    }
   ],
   "source": [
    "k = 201\n",
    "X = np.linspace(-3, 3, k)\n",
    "Y = np.exp(X)\n",
    "plt.scatter(X, Y, s = 0.8)\n",
    "\n",
    "def f(x, a):\n",
    "    return (a[0] + a[1] * x + a[2] * x**2) / (1 + a[3] * x + a[4] * x**2)\n",
    "\n",
    "def loss(a):\n",
    "    P = 50\n",
    "    return jnp.sum((f(X, a) - Y)**P) ** (1/P)\n",
    "\n",
    "a0 = np.random.normal(size=5)\n",
    "res = optimize.minimize(\n",
    "    loss, # Loss function\n",
    "    a0,   # Initial value\n",
    "    jac  = jax.grad(loss),\n",
    "    method = 'BFGS'\n",
    ")\n"
   ]
  },
  {
   "cell_type": "code",
   "execution_count": 3,
   "id": "c585d87c-4ae1-4945-afa2-c0c2b151f7c2",
   "metadata": {},
   "outputs": [
    {
     "data": {
      "text/plain": [
       "9.623840155165205"
      ]
     },
     "execution_count": 3,
     "metadata": {},
     "output_type": "execute_result"
    }
   ],
   "source": [
    "np.max(f(X, res.x) - Y)"
   ]
  },
  {
   "cell_type": "code",
   "execution_count": 4,
   "id": "d1d98e5f-9837-4cd8-acfd-eee373f5a4fe",
   "metadata": {},
   "outputs": [
    {
     "data": {
      "text/plain": [
       "<matplotlib.legend.Legend at 0x289f38eb0>"
      ]
     },
     "execution_count": 4,
     "metadata": {},
     "output_type": "execute_result"
    },
    {
     "data": {
      "image/png": "[encoded data removed]",
      "text/plain": [
       "<Figure size 432x288 with 1 Axes>"
      ]
     },
     "metadata": {
      "needs_background": "light"
     },
     "output_type": "display_data"
    }
   ],
   "source": [
    "plt.scatter(X, Y, s=0.8, label='Target')\n",
    "plt.plot(X, f(X, res.x), color='darkred', label=\"Fit\")\n",
    "plt.legend()"
   ]
  },
  {
   "cell_type": "markdown",
   "id": "cb323a21",
   "metadata": {},
   "source": [
    "# №3*"
   ]
  },
  {
   "cell_type": "code",
   "execution_count": null,
   "id": "347f280d",
   "metadata": {},
   "outputs": [],
   "source": []
  },
  {
   "cell_type": "markdown",
   "id": "7477efbe",
   "metadata": {},
   "source": [
    "# №4"
   ]
  },
  {
   "cell_type": "markdown",
   "id": "b1d8619f",
   "metadata": {},
   "source": [
    "$ u_0 = argmin _{u∈R^d, |u|=1} u^T A u $, A  - симметричная"
   ]
  },
  {
   "cell_type": "code",
   "execution_count": 5,
   "id": "aaf52b86",
   "metadata": {},
   "outputs": [
    {
     "name": "stderr",
     "output_type": "stream",
     "text": [
      "/var/folders/33/pml9j82x2hz0y5wjjt4ws6sm0000gn/T/ipykernel_59678/3477379076.py:2: DeprecationWarning: This function is deprecated. Please call randint(-10, 10 + 1) instead\n",
      "  b = np.random.random_integers(-10,10, size=(N,N))\n"
     ]
    },
    {
     "data": {
      "text/plain": [
       "array([[  4. ,   6. ,   0. ,  -9. ,   8. ,  -0.5,   1.5,  -8.5,  -0.5,\n",
       "         -7. ],\n",
       "       [  6. ,  -3. ,   7. ,   1.5,   5. ,   1. ,   5.5,   1.5,  -7.5,\n",
       "          1. ],\n",
       "       [  0. ,   7. ,  -7. ,  -2.5,   6.5,   2. ,  -2. ,   1. ,  -2.5,\n",
       "         -3. ],\n",
       "       [ -9. ,   1.5,  -2.5,  -6. ,   0.5,   0. ,  -0.5,  -6.5,   1. ,\n",
       "          5. ],\n",
       "       [  8. ,   5. ,   6.5,   0.5,  -8. ,   2. ,   5. ,   8.5,  -3.5,\n",
       "         -1.5],\n",
       "       [ -0.5,   1. ,   2. ,   0. ,   2. ,  -9. ,  -3.5,  -4.5,  -2.5,\n",
       "          7.5],\n",
       "       [  1.5,   5.5,  -2. ,  -0.5,   5. ,  -3.5,  -4. ,   5. ,   1. ,\n",
       "         -1. ],\n",
       "       [ -8.5,   1.5,   1. ,  -6.5,   8.5,  -4.5,   5. ,  -4. ,  -8. ,\n",
       "         -2. ],\n",
       "       [ -0.5,  -7.5,  -2.5,   1. ,  -3.5,  -2.5,   1. ,  -8. ,   8. ,\n",
       "         -9.5],\n",
       "       [ -7. ,   1. ,  -3. ,   5. ,  -1.5,   7.5,  -1. ,  -2. ,  -9.5,\n",
       "        -10. ]])"
      ]
     },
     "execution_count": 5,
     "metadata": {},
     "output_type": "execute_result"
    }
   ],
   "source": [
    "def get_symm_matrix(N: int):\n",
    "    b = np.random.random_integers(-10,10, size=(N,N))\n",
    "    return (b + b.T)/2\n",
    "A = get_symm_matrix(10)\n",
    "A"
   ]
  },
  {
   "cell_type": "code",
   "execution_count": 6,
   "id": "8adacbe9",
   "metadata": {},
   "outputs": [
    {
     "name": "stdout",
     "output_type": "stream",
     "text": [
      "[-26.62135683962437, -21.008522685344015]\n"
     ]
    }
   ],
   "source": [
    "# для сверки\n",
    "eigenvalues = np.linalg.eigvals(A)\n",
    "print(sorted(eigenvalues)[:2])"
   ]
  },
  {
   "cell_type": "markdown",
   "id": "f08221b8",
   "metadata": {},
   "source": [
    "# №5 "
   ]
  },
  {
   "cell_type": "code",
   "execution_count": 7,
   "id": "5a18b2c1",
   "metadata": {},
   "outputs": [
    {
     "name": "stderr",
     "output_type": "stream",
     "text": [
      "/var/folders/33/pml9j82x2hz0y5wjjt4ws6sm0000gn/T/ipykernel_59678/3700600260.py:1: VisibleDeprecationWarning: Creating an ndarray from ragged nested sequences (which is a list-or-tuple of lists-or-tuples-or ndarrays with different lengths or shapes) is deprecated. If you meant to do this, you must specify 'dtype=object' when creating the ndarray.\n",
      "  data5 = np.array(list(pd.read_pickle(\"data/data_sensors.pickle\").values()))\n"
     ]
    }
   ],
   "source": [
    "data5 = np.array(list(pd.read_pickle(\"data/data_sensors.pickle\").values()))\n",
    "# все вектора двухмерные\n",
    "i, j, n = data5[:, 0], data5[:, 1], data5[:, 2]"
   ]
  },
  {
   "cell_type": "code",
   "execution_count": null,
   "id": "76bea83b",
   "metadata": {},
   "outputs": [],
   "source": []
  },
  {
   "cell_type": "markdown",
   "id": "53881f84",
   "metadata": {},
   "source": [
    "# №6"
   ]
  },
  {
   "cell_type": "code",
   "execution_count": 8,
   "id": "69cff849",
   "metadata": {},
   "outputs": [
    {
     "name": "stderr",
     "output_type": "stream",
     "text": [
      "/var/folders/33/pml9j82x2hz0y5wjjt4ws6sm0000gn/T/ipykernel_59678/1815392493.py:5: RuntimeWarning: divide by zero encountered in divide\n",
      "  Z1 = X / Y\n",
      "/var/folders/33/pml9j82x2hz0y5wjjt4ws6sm0000gn/T/ipykernel_59678/1815392493.py:5: RuntimeWarning: invalid value encountered in divide\n",
      "  Z1 = X / Y\n"
     ]
    },
    {
     "data": {
      "image/png": "[encoded data removed]",
      "text/plain": [
       "<Figure size 864x360 with 2 Axes>"
      ]
     },
     "metadata": {
      "needs_background": "light"
     },
     "output_type": "display_data"
    }
   ],
   "source": [
    "# R^2_{++} -- set of positive real numbers\n",
    "x = np.linspace(0, 5, 400)\n",
    "y = np.linspace(0, 5, 400)\n",
    "X, Y = np.meshgrid(x, y)\n",
    "Z1 = X / Y\n",
    "Z2 = X * Y\n",
    "\n",
    "# Plot x/y \n",
    "plt.figure(figsize=(12, 5))\n",
    "\n",
    "plt.subplot(1, 2, 1)\n",
    "plt.contourf(X, Y, Z1, levels=[-np.inf, 1], colors='skyblue')\n",
    "plt.xlabel('X')\n",
    "plt.ylabel('Y')\n",
    "plt.title('Set where X/Y < 1')\n",
    "\n",
    "# Plot x*y \n",
    "plt.subplot(1, 2, 2)\n",
    "plt.contourf(X, Y, Z2, levels=[-np.inf, 1], colors='lightcoral')\n",
    "plt.plot([0.1, 3], [3, 0.1], color = \"black\") # контрпример, множество не выпуклое\n",
    "plt.xlabel('X')\n",
    "plt.ylabel('Y')\n",
    "plt.title('Set where X*Y < 1')\n",
    "\n",
    "plt.tight_layout()\n",
    "plt.show()\n",
    "# a, b, d -- выпуклые, d -- не выпуклое\n"
   ]
  },
  {
   "cell_type": "markdown",
   "id": "c8eea7d7-9fd7-4398-a955-8f7871ede839",
   "metadata": {},
   "source": [
    "# №7"
   ]
  },
  {
   "cell_type": "markdown",
   "id": "7dfaac27",
   "metadata": {},
   "source": [
    "(a) f$(x, y) = x^2/y, y>0$\n",
    "\n",
    "$$\\nabla^2 f  = \\left( \\begin{matrix} \\frac{2}{y} & \\frac{-2x}{y^2}  \\\\ \\frac{-2x}{y^2}& \\frac{2x^2}{y^3} \\end{matrix} \\right)$$\n",
    "\n",
    "$\\forall v$: $v^T \\nabla^2 f(x) v = \\frac{2}{y} \\left( v_1^2 + \\frac{x^2 v_2^2}{y^2} - \\frac{2v_1v_2x}{y} \\right) = \\frac{2}{y} \\left( v_1 - \\frac{v_2 x}{y} \\right)^2 > 0$\n"
   ]
  },
  {
   "cell_type": "markdown",
   "id": "70ec1a4a",
   "metadata": {},
   "source": [
    "(b)"
   ]
  },
  {
   "cell_type": "markdown",
   "id": "2f68d1be-5600-41c2-b779-c3f991a3ca77",
   "metadata": {},
   "source": [
    "(c) $f(x) = ln \\sum_{k=1}^n e^{x_k}$, $x \\in R^n$"
   ]
  },
  {
   "cell_type": "markdown",
   "id": "76c049bc-919f-492f-bd61-97a2fd37fc1d",
   "metadata": {},
   "source": [
    "$$\\nabla^2 f = \\left( \\begin{matrix} \\frac{\\partial^2 f}{\\partial x_1^2} & \\frac{\\partial^2 f}{\\partial x_1\\partial x_2} & ... \\\\ ... & ... & ... \\end{matrix} \\right)$$"
   ]
  },
  {
   "cell_type": "markdown",
   "id": "8acf8030-7723-44f9-8ff3-822655865ff3",
   "metadata": {},
   "source": [
    "$$\\frac{\\partial^2 f}{\\partial x_i^2} = \\frac{\\partial}{\\partial x_i}\\left(\\frac{1}{\\sum_{k=1}^n e^{x_k}} e^{x_i}\\right)$$"
   ]
  },
  {
   "cell_type": "markdown",
   "id": "d8acb027-35d9-450b-8331-813f69c1c8b2",
   "metadata": {},
   "source": [
    "$$\\frac{\\partial^2 f}{\\partial x_i^2} = \\frac{1}{\\sum_{k=1}^n e^{x_k}}e^{x_i} - \\frac{1}{\\left(\\sum_{k=1}^n e^{x_k}\\right)^2}e^{2x_i}$$"
   ]
  },
  {
   "cell_type": "markdown",
   "id": "14994d24-cd6a-4b4c-8d23-3c9c4beaa6c0",
   "metadata": {},
   "source": [
    "$$\\frac{\\partial^2 f}{\\partial x_i\\partial x_j} = \\frac{\\partial}{\\partial x_j} \\left( \\frac{1}{\\sum_{k=1}^ne^{x_k}} e^{x_i} \\right)$$"
   ]
  },
  {
   "cell_type": "markdown",
   "id": "a08183c3-3639-467e-a37f-bf8a84c0746f",
   "metadata": {},
   "source": [
    "$$\\frac{\\partial^2 f}{\\partial x_i\\partial x_j} = -\\frac{1}{\\left(\\sum e^{x_k}\\right)^2}e^{x_i + x_j}$$"
   ]
  },
  {
   "cell_type": "markdown",
   "id": "f8282339-684d-460e-b5dd-7559b9c21c27",
   "metadata": {},
   "source": [
    "$$\\xi = \\left( e^{x_1}, e^{x_2}, ... \\right)$$"
   ]
  },
  {
   "cell_type": "markdown",
   "id": "498676fd-66ca-4f2b-88f9-cab90ce28fba",
   "metadata": {},
   "source": [
    "$$\\nabla^2 f = \\frac{1}{\\vec 1 \\cdot \\xi} \\text{diag} (\\xi) - \\frac{1}{\\left(\\vec 1 \\cdot \\xi\\right)^2} \\xi\\xi^T$$"
   ]
  },
  {
   "cell_type": "markdown",
   "id": "d445b9f4-4986-459d-bea8-b4cc0de2f822",
   "metadata": {},
   "source": [
    "$\\forall v$: $v^T \\nabla^2 f(x) v \\ge 0$"
   ]
  },
  {
   "cell_type": "markdown",
   "id": "33d65d8e-d0ab-4f30-9f9d-cb2f4236b7a3",
   "metadata": {},
   "source": [
    "$$\\frac{\\sum \\xi_i v_i^2}{\\sum \\xi_i} - \\frac{(\\sum v_i \\xi_i)^2}{\\left(\\sum \\xi_i\\right)^2} \\ge 0$$"
   ]
  },
  {
   "cell_type": "markdown",
   "id": "5e6f09bc",
   "metadata": {},
   "source": [
    "# №8"
   ]
  },
  {
   "cell_type": "code",
   "execution_count": null,
   "id": "d6771f5c",
   "metadata": {},
   "outputs": [],
   "source": []
  },
  {
   "cell_type": "code",
   "execution_count": null,
   "id": "72bedd21",
   "metadata": {},
   "outputs": [],
   "source": []
  },
  {
   "cell_type": "markdown",
   "id": "15ed3862",
   "metadata": {},
   "source": [
    "# №10"
   ]
  },
  {
   "cell_type": "code",
   "execution_count": 9,
   "id": "12bb04e6",
   "metadata": {
    "scrolled": false
   },
   "outputs": [
    {
     "name": "stderr",
     "output_type": "stream",
     "text": [
      "/Users/zugzvangg/.pyenv/versions/3.10.5/lib/python3.10/site-packages/cvxpy/reductions/solvers/solving_chain.py:336: FutureWarning: \n",
      "    Your problem is being solved with the ECOS solver by default. Starting in \n",
      "    CVXPY 1.5.0, Clarabel will be used as the default solver instead. To continue \n",
      "    using ECOS, specify the ECOS solver explicitly using the ``solver=cp.ECOS`` \n",
      "    argument to the ``problem.solve`` method.\n",
      "    \n",
      "  warnings.warn(ECOS_DEPRECATION_MSG, FutureWarning)\n"
     ]
    },
    {
     "data": {
      "image/png": "[encoded data removed]",
      "text/plain": [
       "<Figure size 864x432 with 1 Axes>"
      ]
     },
     "metadata": {
      "needs_background": "light"
     },
     "output_type": "display_data"
    }
   ],
   "source": [
    "exq10_data = np.load('data/data_fit.npz')\n",
    "x, y = exq10_data[\"x\"], exq10_data[\"y\"]\n",
    "A = np.vstack([x**2, x, np.ones_like(x)]).T\n",
    "coefficients_lstsq, _, _, _ = np.linalg.lstsq(A, y, rcond=None)\n",
    "\n",
    "a = cp.Variable()\n",
    "b = cp.Variable()\n",
    "c = cp.Variable()\n",
    "\n",
    "cp.Problem(cp.Minimize(cp.abs(cp.sum(a*x**2 + b*x + c - y)))).solve()\n",
    "coefficients_l1 = [a.value, b.value, c.value]\n",
    "\n",
    "cp.Problem(cp.Minimize(cp.sum_squares(a*x**2 + b*x + c - y))).solve()\n",
    "coefficients_l2 = [a.value, b.value, c.value]\n",
    "\n",
    "\n",
    "x_fit = np.linspace(min(x), max(x), 100)\n",
    "y_fit_lstsq = coefficients_lstsq[0] * x_fit**2 + coefficients_lstsq[1] * x_fit + coefficients_lstsq[2]\n",
    "y_fit_l1 = coefficients_l1[0] * x_fit**2 + coefficients_l1[1] * x_fit + coefficients_l1[2]\n",
    "y_fit_l2 = coefficients_l2[0] * x_fit**2 + coefficients_l2[1] * x_fit + coefficients_l2[2]\n",
    "\n",
    "\n",
    "# Plot the data points and the fitted polynomial curve\n",
    "plt.figure(figsize=(12, 6))\n",
    "plt.scatter(x, y, label='Data Points')\n",
    "plt.plot(x_fit, y_fit_lstsq, color='red', label='LSTQ MSE')\n",
    "plt.plot(x_fit, y_fit_l1, color='green', label='CVXPY MAE')\n",
    "plt.plot(x_fit, y_fit_l2, color='blue', label='CVXPY MSE')\n",
    "plt.xlabel('X')\n",
    "plt.ylabel('Y')\n",
    "plt.title('Fitting a Square Polynomial')\n",
    "plt.legend()\n",
    "plt.grid(True)\n",
    "plt.show()\n",
    "\n",
    "# оптимизировать MSE по сравнению с MAE лучше\n",
    "# с MSE CVXPY и np.linalg.lstsq справились одинаково"
   ]
  },
  {
   "cell_type": "code",
   "execution_count": null,
   "id": "f05ccb64",
   "metadata": {},
   "outputs": [],
   "source": []
  },
  {
   "cell_type": "markdown",
   "id": "852257d7",
   "metadata": {},
   "source": [
    "# №11"
   ]
  },
  {
   "cell_type": "code",
   "execution_count": 11,
   "id": "2da7df60",
   "metadata": {},
   "outputs": [
    {
     "name": "stdout",
     "output_type": "stream",
     "text": [
      "The optimal 'a' has 10 non-zero elements.\n",
      "a norm 9.634439501271785\n",
      "Are equal: True\n"
     ]
    }
   ],
   "source": [
    "data = np.load('data/data_linprog.npz')\n",
    "X = data['X']\n",
    "y = data['y']\n",
    "\n",
    "n, k = X.shape\n",
    "\n",
    "# Formulate the linear program to minimize the sum of absolute values of elements in 'a'\n",
    "c = np.ones(2*k)  # Objective function to minimize the sum of absolute values\n",
    "A_eq = np.hstack((X, -X))  # Coefficients of xi and -xi in the equality constraint\n",
    "b_eq = y  # RHS of the equality constraint\n",
    "\n",
    "# Bounds for each element of 'a' to be between -inf and +inf\n",
    "bounds = [(-100, 100) for _ in range(2*k)]\n",
    "\n",
    "# Solve the linear program\n",
    "res = sp.optimize.linprog(c, A_eq=A_eq, b_eq=b_eq, bounds=bounds, method='highs')\n",
    "\n",
    "# Extract the optimal vector 'a'\n",
    "optimal_a = res.x[:k] - res.x[k:]\n",
    "\n",
    "# Count the number of non-zero elements in the optimal 'a'\n",
    "non_zero_elements = np.count_nonzero(optimal_a)\n",
    "\n",
    "print(f\"The optimal 'a' has {non_zero_elements} non-zero elements.\")\n",
    "print(f\"a norm {np.sum(abs(optimal_a))}\")\n",
    "print(f\"Are equal: {np.allclose(X@optimal_a, y, atol=5)}\")"
   ]
  },
  {
   "cell_type": "markdown",
   "id": "3a60abce-6164-4457-8d35-4c9369382e4f",
   "metadata": {},
   "source": [
    "# №12"
   ]
  },
  {
   "cell_type": "markdown",
   "id": "b288c048-722a-4691-bbd1-a3944a02963a",
   "metadata": {},
   "source": [
    "$$y_i = a \\cdot x_i + \\epsilon_i$$"
   ]
  },
  {
   "cell_type": "markdown",
   "id": "4a9796ac-a5f9-4ed5-b94e-ce6fb3159719",
   "metadata": {},
   "source": [
    "Minimize: $L_n(a) = \\sum\\limits_i \\left( y_i - a \\cdot x_i \\right)^2 + \\lambda \\|a\\|_n$"
   ]
  },
  {
   "cell_type": "code",
   "execution_count": 16,
   "id": "2d95564f-aca1-4ce3-8709-114b44a48201",
   "metadata": {},
   "outputs": [
    {
     "data": {
      "text/plain": [
       "<numpy.lib.npyio.NpzFile at 0x17fe87ee0>"
      ]
     },
     "execution_count": 16,
     "metadata": {},
     "output_type": "execute_result"
    }
   ],
   "source": [
    "ex7_data_path = 'data/data_regr.npz'\n",
    "ex7_data = np.load(ex7_data_path)\n",
    "ex7_data"
   ]
  },
  {
   "cell_type": "code",
   "execution_count": 17,
   "id": "88064ebd-2339-4c18-a8bb-cccfeb98d3d1",
   "metadata": {},
   "outputs": [
    {
     "data": {
      "text/plain": [
       "((200, 100), (200,))"
      ]
     },
     "execution_count": 17,
     "metadata": {},
     "output_type": "execute_result"
    }
   ],
   "source": [
    "X = ex7_data['X']\n",
    "y = ex7_data['y']\n",
    "X.shape, y.shape"
   ]
  },
  {
   "cell_type": "code",
   "execution_count": 18,
   "id": "9b717fee-0303-49c3-a888-e2b66e9525c0",
   "metadata": {},
   "outputs": [
    {
     "data": {
      "text/plain": [
       "(200, 100)"
      ]
     },
     "execution_count": 18,
     "metadata": {},
     "output_type": "execute_result"
    }
   ],
   "source": [
    "n = y.shape[0]\n",
    "k = X.shape[1]\n",
    "n,k"
   ]
  },
  {
   "cell_type": "code",
   "execution_count": 19,
   "id": "34b6c18a-9f3e-477c-8076-4ba3c81d697e",
   "metadata": {},
   "outputs": [],
   "source": [
    "def solve(l):\n",
    "    a = cp.Variable(k)\n",
    "    loss = cp.sum((y - X @ a)**2) + l * cp.norm(a, 2)\n",
    "    objective = cp.Minimize(loss)\n",
    "    problem = cp.Problem(objective, None)\n",
    "    return problem.solve(), a.value"
   ]
  },
  {
   "cell_type": "code",
   "execution_count": 20,
   "id": "147e04f5-4d38-4b5b-ad7c-fdf7a88db5f2",
   "metadata": {},
   "outputs": [
    {
     "name": "stdout",
     "output_type": "stream",
     "text": [
      "i=499\r"
     ]
    },
    {
     "data": {
      "text/plain": [
       "<matplotlib.legend.Legend at 0x28b355b40>"
      ]
     },
     "execution_count": 20,
     "metadata": {},
     "output_type": "execute_result"
    },
    {
     "data": {
      "image/png": "[encoded data removed]",
      "text/plain": [
       "<Figure size 432x288 with 1 Axes>"
      ]
     },
     "metadata": {
      "needs_background": "light"
     },
     "output_type": "display_data"
    }
   ],
   "source": [
    "ls = np.linspace(0, 5000, 500)\n",
    "rs = np.zeros(ls.shape)\n",
    "an = np.zeros(rs.shape)\n",
    "for i in range(ls.shape[0]):\n",
    "    print(f\"{i=}\", end='\\r')\n",
    "    _, a1 = solve(ls[i])\n",
    "    rs[i] = np.linalg.norm(y - X @ a1)\n",
    "    an[i] = np.linalg.norm(a1)\n",
    "\n",
    "plt.plot(ls, rs, label='|y - Xa|')\n",
    "plt.plot(ls, an, label='|a|')\n",
    "plt.legend()"
   ]
  },
  {
   "cell_type": "markdown",
   "id": "9fca6ccc-245c-46d9-b42d-c512871a53ee",
   "metadata": {},
   "source": [
    "# №13"
   ]
  },
  {
   "cell_type": "markdown",
   "id": "f2c636bd-5b9a-4c3f-8ba7-d5fa0266cf19",
   "metadata": {},
   "source": [
    "Find: $r \\in R^2$ - source"
   ]
  },
  {
   "cell_type": "markdown",
   "id": "4e2cad0b-d130-4893-a215-cf9e953d87c3",
   "metadata": {},
   "source": [
    "Given $r_1, r_2, ..., r_m \\in R^2$ - detectors"
   ]
  },
  {
   "cell_type": "markdown",
   "id": "f3cca349-079e-4c64-a26e-6a84d3028364",
   "metadata": {},
   "source": [
    "Given $d_1, d_2, ..., d_m \\in R$ - distances $\\|r-r_k\\|_2$"
   ]
  },
  {
   "cell_type": "markdown",
   "id": "b47e9999-ae42-4c61-b037-ba930723f401",
   "metadata": {},
   "source": [
    "$$L(r) = \\sum\\left( \\|r-r_k\\|_2^2 - d_k^2 \\right)^2$$"
   ]
  },
  {
   "cell_type": "markdown",
   "id": "be383a76-baba-484a-83b8-b27765b1e2c8",
   "metadata": {},
   "source": [
    "$\\min\\limits_{r,t} \\sum(t + \\|r_k\\|^2  2r\\cdot r_k -d_k^2)^2$ s.t. $\\|r\\|_2^2=t$"
   ]
  },
  {
   "cell_type": "markdown",
   "id": "db5eaa0f-3ebd-440a-a1db-4aee917e98eb",
   "metadata": {},
   "source": [
    "$\\bar L (x,y,t) = \\sum(t + \\|r_k\\|^2 - 2r \\cdot r_k - d_k^2)^2 + \\lambda (\\|r\\|^2 - t)$"
   ]
  },
  {
   "cell_type": "code",
   "execution_count": null,
   "id": "0a490331",
   "metadata": {},
   "outputs": [],
   "source": []
  },
  {
   "cell_type": "markdown",
   "id": "927abb8d",
   "metadata": {},
   "source": [
    "# №14"
   ]
  }
 ],
 "metadata": {
  "kernelspec": {
   "display_name": "Python 3 (ipykernel)",
   "language": "python",
   "name": "python3"
  },
  "language_info": {
   "codemirror_mode": {
    "name": "ipython",
    "version": 3
   },
   "file_extension": ".py",
   "mimetype": "text/x-python",
   "name": "python",
   "nbconvert_exporter": "python",
   "pygments_lexer": "ipython3",
   "version": "3.10.5"
  }
 },
 "nbformat": 4,
 "nbformat_minor": 5
}
