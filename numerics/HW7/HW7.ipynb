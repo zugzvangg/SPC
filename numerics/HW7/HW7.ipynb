{
 "cells": [
  {
   "cell_type": "code",
   "execution_count": 1,
   "id": "ff91c33a",
   "metadata": {},
   "outputs": [],
   "source": [
    "import numpy as np\n",
    "import matplotlib.pyplot as plt\n",
    "import pandas as pd\n",
    "import scipy as sp\n",
    "\n",
    "import jax\n",
    "import jax.numpy as jnp\n",
    "from scipy.optimize import NonlinearConstraint\n",
    "jax.config.update(\"jax_enable_x64\", True)\n",
    "from scipy import optimize\n",
    "import cvxpy as cp\n",
    "import sympy as sym"
   ]
  },
  {
   "cell_type": "markdown",
   "id": "996325ca-6c96-4084-a804-e2afb56a083f",
   "metadata": {},
   "source": [
    " # №1"
   ]
  },
  {
   "cell_type": "code",
   "execution_count": null,
   "id": "1df0d4d4",
   "metadata": {},
   "outputs": [],
   "source": []
  },
  {
   "cell_type": "code",
   "execution_count": null,
   "id": "8c748caa",
   "metadata": {},
   "outputs": [],
   "source": []
  },
  {
   "cell_type": "markdown",
   "id": "3ddf6dde",
   "metadata": {},
   "source": [
    " # №2"
   ]
  },
  {
   "cell_type": "code",
   "execution_count": null,
   "id": "4169c334",
   "metadata": {},
   "outputs": [],
   "source": []
  },
  {
   "cell_type": "code",
   "execution_count": null,
   "id": "6d730fe2",
   "metadata": {},
   "outputs": [],
   "source": []
  },
  {
   "cell_type": "code",
   "execution_count": null,
   "id": "f3cab12b",
   "metadata": {},
   "outputs": [],
   "source": []
  },
  {
   "cell_type": "code",
   "execution_count": null,
   "id": "56a66e19",
   "metadata": {},
   "outputs": [],
   "source": []
  }
 ],
 "metadata": {
  "kernelspec": {
   "display_name": "Python 3 (ipykernel)",
   "language": "python",
   "name": "python3"
  },
  "language_info": {
   "codemirror_mode": {
    "name": "ipython",
    "version": 3
   },
   "file_extension": ".py",
   "mimetype": "text/x-python",
   "name": "python",
   "nbconvert_exporter": "python",
   "pygments_lexer": "ipython3",
   "version": "3.10.5"
  }
 },
 "nbformat": 4,
 "nbformat_minor": 5
}
