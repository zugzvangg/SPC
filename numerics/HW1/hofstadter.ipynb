{
 "cells": [
  {
   "cell_type": "code",
   "execution_count": 23,
   "id": "7534c5f0",
   "metadata": {},
   "outputs": [],
   "source": [
    "import numpy as np\n",
    "import numba as nb\n",
    "import warnings\n",
    "warnings.filterwarnings(\"ignore\")"
   ]
  },
  {
   "cell_type": "code",
   "execution_count": 27,
   "id": "ada0f1e1",
   "metadata": {},
   "outputs": [
    {
     "name": "stdout",
     "output_type": "stream",
     "text": [
      "411 ms ± 10.6 ms per loop (mean ± std. dev. of 7 runs, 1 loop each)\n",
      "338 ms ± 1 ms per loop (mean ± std. dev. of 7 runs, 1 loop each)\n",
      "5.85 ms ± 27.4 µs per loop (mean ± std. dev. of 7 runs, 100 loops each)\n",
      "99999999\n"
     ]
    }
   ],
   "source": [
    "N = 1_000_000\n",
    "\n",
    "def i(n: int):\n",
    "    res = np.zeros(n, dtype = int)\n",
    "    res[0] = 1\n",
    "    res[1] = 1\n",
    "    for i in np.arange(2, n):\n",
    "        ind = res[i - 1]\n",
    "        res[i] = res[ind] + res[i - ind]\n",
    "    return res[-1]\n",
    "        \n",
    "def ii(n: int):\n",
    "    res = [1, 1]\n",
    "    for i in np.arange(2, n):\n",
    "        ind = res[i - 1]\n",
    "        res.append(res[ind] + res[i - ind])\n",
    "    res = np.array(res)\n",
    "    return res[-1]\n",
    "    \n",
    "    \n",
    "@nb.jit()\n",
    "def iii(n: int):\n",
    "    res = np.zeros(n, dtype = int)\n",
    "    res[0] = 1\n",
    "    res[1] = 1\n",
    "    for i in np.arange(2, n):\n",
    "        ind = res[i - 1]\n",
    "        res[i] = res[ind] + res[i - ind]\n",
    "    return res[-1]\n",
    "        \n",
    "%timeit i(N)\n",
    "               \n",
    "%timeit ii(N)\n",
    "\n",
    "%timeit iii(N) # the optimal one\n",
    "\n",
    "a_last =  iii(10**8)\n",
    "print(a_last)\n"
   ]
  }
 ],
 "metadata": {
  "kernelspec": {
   "display_name": "Python 3 (ipykernel)",
   "language": "python",
   "name": "python3"
  },
  "language_info": {
   "codemirror_mode": {
    "name": "ipython",
    "version": 3
   },
   "file_extension": ".py",
   "mimetype": "text/x-python",
   "name": "python",
   "nbconvert_exporter": "python",
   "pygments_lexer": "ipython3",
   "version": "3.8.13"
  }
 },
 "nbformat": 4,
 "nbformat_minor": 5
}
