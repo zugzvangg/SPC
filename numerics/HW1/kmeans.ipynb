{
 "cells": [
  {
   "cell_type": "code",
   "execution_count": null,
   "metadata": {},
   "outputs": [],
   "source": [
    "import numpy as np \n",
    "import matplotlib.pyplot as plt "
   ]
  },
  {
   "cell_type": "code",
   "execution_count": null,
   "metadata": {},
   "outputs": [],
   "source": [
    "def scatter_plot(data, col=None):\n",
    "    from mpl_toolkits.mplot3d import Axes3D \n",
    "    %matplotlib inline\n",
    "    fig = plt.figure()\n",
    "    ax = fig.add_subplot(111, projection='3d')\n",
    "    ax.scatter(data[:,0], data[:,1], data[:,2], s = 0.5, color=col)\n",
    "    plt.show()"
   ]
  },
  {
   "cell_type": "code",
   "execution_count": null,
   "metadata": {},
   "outputs": [],
   "source": [
    "N = 1000\n",
    "K = 3\n",
    "d = 3\n",
    "L = 10"
   ]
  },
  {
   "cell_type": "code",
   "execution_count": null,
   "metadata": {},
   "outputs": [],
   "source": [
    "# Generate some data\n",
    "np.random.seed(42)\n",
    "mu_true = np.random.uniform(-L, L, size = (K, d))\n",
    "data = np.random.normal(mu_true, size = (N, K, d))\n",
    "data = np.vstack(data)\n",
    "np.random.shuffle(data)"
   ]
  },
  {
   "cell_type": "code",
   "execution_count": null,
   "metadata": {},
   "outputs": [],
   "source": [
    "if d == 3:\n",
    "    scatter_plot(data, None)"
   ]
  },
  {
   "cell_type": "code",
   "execution_count": null,
   "metadata": {},
   "outputs": [],
   "source": [
    "mu = data[np.random.choice(range(data.shape[0]), K, replace=False)]"
   ]
  },
  {
   "cell_type": "code",
   "execution_count": null,
   "metadata": {},
   "outputs": [],
   "source": [
    "def dist_i(x, mu):\n",
    "    # x: N datapoints, mu: N cluster centers\n",
    "    # returns: D_{i}, squared distances from x[i] to mu[i]\n",
    "    dist = npszeros(x.shape[0])\n",
    "    for i in range(x.shape[0]):\n",
    "        dist[i] = np.sum((x[i] - mu[i])**2)\n",
    "    return dist\n",
    "def dist_ij(x, mu):\n",
    "    # x: N datapoints, mu: K cluster centers\n",
    "    # returns: D_{ij}, squared distances from x[i] to mu[j]\n",
    "    dist = np.zeros((x.shape[0], mu.shape[0]))\n",
    "    for i in range(x.shape[0]):\n",
    "        for j in range(mu.shape[0]):\n",
    "            dist[i, j] += np.sum((x[i] - mu[j])**2)\n",
    "    return dist"
   ]
  },
  {
   "cell_type": "code",
   "execution_count": null,
   "metadata": {},
   "outputs": [],
   "source": [
    "ss_list = []\n",
    "for n in range(10):\n",
    "    c =  np.argmin(dist_ij(data, mu), axis = 1)    \n",
    "    ss = np.mean(dist_i(data, mu[c]))\n",
    "    ss_list.append(ss)    \n",
    "    for i in range(K):\n",
    "        cluster_members = data[c == i]\n",
    "        cluster_members = cluster_members.mean(axis = 0)\n",
    "        mu[i] = cluster_members"
   ]
  },
  {
   "cell_type": "code",
   "execution_count": null,
   "metadata": {},
   "outputs": [],
   "source": [
    "plt.plot(ss_list)"
   ]
  },
  {
   "cell_type": "code",
   "execution_count": null,
   "metadata": {},
   "outputs": [],
   "source": [
    "colors = np.array([plt.cm.cool(i/(K-1)) for i in range(K)])"
   ]
  },
  {
   "cell_type": "code",
   "execution_count": null,
   "metadata": {},
   "outputs": [],
   "source": [
    "if d == 3:\n",
    "    scatter_plot(data, colors[c])"
   ]
  }
 ],
 "metadata": {
  "kernelspec": {
   "display_name": "Python 3 (ipykernel)",
   "language": "python",
   "name": "python3"
  },
  "language_info": {
   "codemirror_mode": {
    "name": "ipython",
    "version": 3
   },
   "file_extension": ".py",
   "mimetype": "text/x-python",
   "name": "python",
   "nbconvert_exporter": "python",
   "pygments_lexer": "ipython3",
   "version": "3.9.12"
  },
  "toc": {
   "base_numbering": 1,
   "nav_menu": {},
   "number_sections": true,
   "sideBar": true,
   "skip_h1_title": false,
   "title_cell": "Table of Contents",
   "title_sidebar": "Contents",
   "toc_cell": false,
   "toc_position": {},
   "toc_section_display": true,
   "toc_window_display": false
  }
 },
 "nbformat": 4,
 "nbformat_minor": 2
}
